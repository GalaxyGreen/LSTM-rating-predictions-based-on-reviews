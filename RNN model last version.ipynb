{
  "nbformat": 4,
  "nbformat_minor": 0,
  "metadata": {
    "accelerator": "GPU",
    "colab": {
      "name": "Untitled14_(1)_(15).ipynb",
      "provenance": [],
      "collapsed_sections": []
    },
    "kernelspec": {
      "display_name": "Python 3",
      "name": "python3"
    },
    "widgets": {
      "application/vnd.jupyter.widget-state+json": {
        "1cda7a3a96044fad88f630002f011fb8": {
          "model_module": "@jupyter-widgets/controls",
          "model_name": "HBoxModel",
          "state": {
            "_view_name": "HBoxView",
            "_dom_classes": [],
            "_model_name": "HBoxModel",
            "_view_module": "@jupyter-widgets/controls",
            "_model_module_version": "1.5.0",
            "_view_count": null,
            "_view_module_version": "1.5.0",
            "box_style": "",
            "layout": "IPY_MODEL_9e1c8fd7a9dd42fda923fa70844b48b5",
            "_model_module": "@jupyter-widgets/controls",
            "children": [
              "IPY_MODEL_9f3d09b965c24bc0b4f1d7defda5aa7f",
              "IPY_MODEL_c719cc0291b94b8097db2ab1263619ce"
            ]
          }
        },
        "9e1c8fd7a9dd42fda923fa70844b48b5": {
          "model_module": "@jupyter-widgets/base",
          "model_name": "LayoutModel",
          "state": {
            "_view_name": "LayoutView",
            "grid_template_rows": null,
            "right": null,
            "justify_content": null,
            "_view_module": "@jupyter-widgets/base",
            "overflow": null,
            "_model_module_version": "1.2.0",
            "_view_count": null,
            "flex_flow": null,
            "width": null,
            "min_width": null,
            "border": null,
            "align_items": null,
            "bottom": null,
            "_model_module": "@jupyter-widgets/base",
            "top": null,
            "grid_column": null,
            "overflow_y": null,
            "overflow_x": null,
            "grid_auto_flow": null,
            "grid_area": null,
            "grid_template_columns": null,
            "flex": null,
            "_model_name": "LayoutModel",
            "justify_items": null,
            "grid_row": null,
            "max_height": null,
            "align_content": null,
            "visibility": null,
            "align_self": null,
            "height": null,
            "min_height": null,
            "padding": null,
            "grid_auto_rows": null,
            "grid_gap": null,
            "max_width": null,
            "order": null,
            "_view_module_version": "1.2.0",
            "grid_template_areas": null,
            "object_position": null,
            "object_fit": null,
            "grid_auto_columns": null,
            "margin": null,
            "display": null,
            "left": null
          }
        },
        "9f3d09b965c24bc0b4f1d7defda5aa7f": {
          "model_module": "@jupyter-widgets/controls",
          "model_name": "FloatProgressModel",
          "state": {
            "_view_name": "ProgressView",
            "style": "IPY_MODEL_b54adfbd78c74ac3b43b6f1088468122",
            "_dom_classes": [],
            "description": "100%",
            "_model_name": "FloatProgressModel",
            "bar_style": "success",
            "max": 12496,
            "_view_module": "@jupyter-widgets/controls",
            "_model_module_version": "1.5.0",
            "value": 12496,
            "_view_count": null,
            "_view_module_version": "1.5.0",
            "orientation": "horizontal",
            "min": 0,
            "description_tooltip": null,
            "_model_module": "@jupyter-widgets/controls",
            "layout": "IPY_MODEL_1ef8999bc99243b194728594a807126e"
          }
        },
        "c719cc0291b94b8097db2ab1263619ce": {
          "model_module": "@jupyter-widgets/controls",
          "model_name": "HTMLModel",
          "state": {
            "_view_name": "HTMLView",
            "style": "IPY_MODEL_43eaef756aef4c26ade789507f35c507",
            "_dom_classes": [],
            "description": "",
            "_model_name": "HTMLModel",
            "placeholder": "​",
            "_view_module": "@jupyter-widgets/controls",
            "_model_module_version": "1.5.0",
            "value": " 12496/12496 [1:28:23&lt;00:00,  2.36it/s]",
            "_view_count": null,
            "_view_module_version": "1.5.0",
            "description_tooltip": null,
            "_model_module": "@jupyter-widgets/controls",
            "layout": "IPY_MODEL_47847751d9194291ba572d3eb57c14d2"
          }
        },
        "b54adfbd78c74ac3b43b6f1088468122": {
          "model_module": "@jupyter-widgets/controls",
          "model_name": "ProgressStyleModel",
          "state": {
            "_view_name": "StyleView",
            "_model_name": "ProgressStyleModel",
            "description_width": "initial",
            "_view_module": "@jupyter-widgets/base",
            "_model_module_version": "1.5.0",
            "_view_count": null,
            "_view_module_version": "1.2.0",
            "bar_color": null,
            "_model_module": "@jupyter-widgets/controls"
          }
        },
        "1ef8999bc99243b194728594a807126e": {
          "model_module": "@jupyter-widgets/base",
          "model_name": "LayoutModel",
          "state": {
            "_view_name": "LayoutView",
            "grid_template_rows": null,
            "right": null,
            "justify_content": null,
            "_view_module": "@jupyter-widgets/base",
            "overflow": null,
            "_model_module_version": "1.2.0",
            "_view_count": null,
            "flex_flow": null,
            "width": null,
            "min_width": null,
            "border": null,
            "align_items": null,
            "bottom": null,
            "_model_module": "@jupyter-widgets/base",
            "top": null,
            "grid_column": null,
            "overflow_y": null,
            "overflow_x": null,
            "grid_auto_flow": null,
            "grid_area": null,
            "grid_template_columns": null,
            "flex": null,
            "_model_name": "LayoutModel",
            "justify_items": null,
            "grid_row": null,
            "max_height": null,
            "align_content": null,
            "visibility": null,
            "align_self": null,
            "height": null,
            "min_height": null,
            "padding": null,
            "grid_auto_rows": null,
            "grid_gap": null,
            "max_width": null,
            "order": null,
            "_view_module_version": "1.2.0",
            "grid_template_areas": null,
            "object_position": null,
            "object_fit": null,
            "grid_auto_columns": null,
            "margin": null,
            "display": null,
            "left": null
          }
        },
        "43eaef756aef4c26ade789507f35c507": {
          "model_module": "@jupyter-widgets/controls",
          "model_name": "DescriptionStyleModel",
          "state": {
            "_view_name": "StyleView",
            "_model_name": "DescriptionStyleModel",
            "description_width": "",
            "_view_module": "@jupyter-widgets/base",
            "_model_module_version": "1.5.0",
            "_view_count": null,
            "_view_module_version": "1.2.0",
            "_model_module": "@jupyter-widgets/controls"
          }
        },
        "47847751d9194291ba572d3eb57c14d2": {
          "model_module": "@jupyter-widgets/base",
          "model_name": "LayoutModel",
          "state": {
            "_view_name": "LayoutView",
            "grid_template_rows": null,
            "right": null,
            "justify_content": null,
            "_view_module": "@jupyter-widgets/base",
            "overflow": null,
            "_model_module_version": "1.2.0",
            "_view_count": null,
            "flex_flow": null,
            "width": null,
            "min_width": null,
            "border": null,
            "align_items": null,
            "bottom": null,
            "_model_module": "@jupyter-widgets/base",
            "top": null,
            "grid_column": null,
            "overflow_y": null,
            "overflow_x": null,
            "grid_auto_flow": null,
            "grid_area": null,
            "grid_template_columns": null,
            "flex": null,
            "_model_name": "LayoutModel",
            "justify_items": null,
            "grid_row": null,
            "max_height": null,
            "align_content": null,
            "visibility": null,
            "align_self": null,
            "height": null,
            "min_height": null,
            "padding": null,
            "grid_auto_rows": null,
            "grid_gap": null,
            "max_width": null,
            "order": null,
            "_view_module_version": "1.2.0",
            "grid_template_areas": null,
            "object_position": null,
            "object_fit": null,
            "grid_auto_columns": null,
            "margin": null,
            "display": null,
            "left": null
          }
        },
        "25de3a9df4b549b3ab98d99c0b3e8b09": {
          "model_module": "@jupyter-widgets/controls",
          "model_name": "HBoxModel",
          "state": {
            "_view_name": "HBoxView",
            "_dom_classes": [],
            "_model_name": "HBoxModel",
            "_view_module": "@jupyter-widgets/controls",
            "_model_module_version": "1.5.0",
            "_view_count": null,
            "_view_module_version": "1.5.0",
            "box_style": "",
            "layout": "IPY_MODEL_4fbb67024a8745a282f44ec24a8c1fed",
            "_model_module": "@jupyter-widgets/controls",
            "children": [
              "IPY_MODEL_9dbd5c069da94f8381b9487079bb61dc",
              "IPY_MODEL_23e3aa0e24f349c4ab7167b58cc669c5"
            ]
          }
        },
        "4fbb67024a8745a282f44ec24a8c1fed": {
          "model_module": "@jupyter-widgets/base",
          "model_name": "LayoutModel",
          "state": {
            "_view_name": "LayoutView",
            "grid_template_rows": null,
            "right": null,
            "justify_content": null,
            "_view_module": "@jupyter-widgets/base",
            "overflow": null,
            "_model_module_version": "1.2.0",
            "_view_count": null,
            "flex_flow": null,
            "width": null,
            "min_width": null,
            "border": null,
            "align_items": null,
            "bottom": null,
            "_model_module": "@jupyter-widgets/base",
            "top": null,
            "grid_column": null,
            "overflow_y": null,
            "overflow_x": null,
            "grid_auto_flow": null,
            "grid_area": null,
            "grid_template_columns": null,
            "flex": null,
            "_model_name": "LayoutModel",
            "justify_items": null,
            "grid_row": null,
            "max_height": null,
            "align_content": null,
            "visibility": null,
            "align_self": null,
            "height": null,
            "min_height": null,
            "padding": null,
            "grid_auto_rows": null,
            "grid_gap": null,
            "max_width": null,
            "order": null,
            "_view_module_version": "1.2.0",
            "grid_template_areas": null,
            "object_position": null,
            "object_fit": null,
            "grid_auto_columns": null,
            "margin": null,
            "display": null,
            "left": null
          }
        },
        "9dbd5c069da94f8381b9487079bb61dc": {
          "model_module": "@jupyter-widgets/controls",
          "model_name": "FloatProgressModel",
          "state": {
            "_view_name": "ProgressView",
            "style": "IPY_MODEL_ae68a10561d8465d927c6740bd7c1bc0",
            "_dom_classes": [],
            "description": "100%",
            "_model_name": "FloatProgressModel",
            "bar_style": "success",
            "max": 1562,
            "_view_module": "@jupyter-widgets/controls",
            "_model_module_version": "1.5.0",
            "value": 1562,
            "_view_count": null,
            "_view_module_version": "1.5.0",
            "orientation": "horizontal",
            "min": 0,
            "description_tooltip": null,
            "_model_module": "@jupyter-widgets/controls",
            "layout": "IPY_MODEL_5c91b0c797ea4669b6f6018d9bc4eadd"
          }
        },
        "23e3aa0e24f349c4ab7167b58cc669c5": {
          "model_module": "@jupyter-widgets/controls",
          "model_name": "HTMLModel",
          "state": {
            "_view_name": "HTMLView",
            "style": "IPY_MODEL_4e0674c11cd845b7b6621c1f5093e479",
            "_dom_classes": [],
            "description": "",
            "_model_name": "HTMLModel",
            "placeholder": "​",
            "_view_module": "@jupyter-widgets/controls",
            "_model_module_version": "1.5.0",
            "value": " 1562/1562 [22:15&lt;00:00,  1.17it/s]",
            "_view_count": null,
            "_view_module_version": "1.5.0",
            "description_tooltip": null,
            "_model_module": "@jupyter-widgets/controls",
            "layout": "IPY_MODEL_ca57240691644e0086ac758cdfd8501a"
          }
        },
        "ae68a10561d8465d927c6740bd7c1bc0": {
          "model_module": "@jupyter-widgets/controls",
          "model_name": "ProgressStyleModel",
          "state": {
            "_view_name": "StyleView",
            "_model_name": "ProgressStyleModel",
            "description_width": "initial",
            "_view_module": "@jupyter-widgets/base",
            "_model_module_version": "1.5.0",
            "_view_count": null,
            "_view_module_version": "1.2.0",
            "bar_color": null,
            "_model_module": "@jupyter-widgets/controls"
          }
        },
        "5c91b0c797ea4669b6f6018d9bc4eadd": {
          "model_module": "@jupyter-widgets/base",
          "model_name": "LayoutModel",
          "state": {
            "_view_name": "LayoutView",
            "grid_template_rows": null,
            "right": null,
            "justify_content": null,
            "_view_module": "@jupyter-widgets/base",
            "overflow": null,
            "_model_module_version": "1.2.0",
            "_view_count": null,
            "flex_flow": null,
            "width": null,
            "min_width": null,
            "border": null,
            "align_items": null,
            "bottom": null,
            "_model_module": "@jupyter-widgets/base",
            "top": null,
            "grid_column": null,
            "overflow_y": null,
            "overflow_x": null,
            "grid_auto_flow": null,
            "grid_area": null,
            "grid_template_columns": null,
            "flex": null,
            "_model_name": "LayoutModel",
            "justify_items": null,
            "grid_row": null,
            "max_height": null,
            "align_content": null,
            "visibility": null,
            "align_self": null,
            "height": null,
            "min_height": null,
            "padding": null,
            "grid_auto_rows": null,
            "grid_gap": null,
            "max_width": null,
            "order": null,
            "_view_module_version": "1.2.0",
            "grid_template_areas": null,
            "object_position": null,
            "object_fit": null,
            "grid_auto_columns": null,
            "margin": null,
            "display": null,
            "left": null
          }
        },
        "4e0674c11cd845b7b6621c1f5093e479": {
          "model_module": "@jupyter-widgets/controls",
          "model_name": "DescriptionStyleModel",
          "state": {
            "_view_name": "StyleView",
            "_model_name": "DescriptionStyleModel",
            "description_width": "",
            "_view_module": "@jupyter-widgets/base",
            "_model_module_version": "1.5.0",
            "_view_count": null,
            "_view_module_version": "1.2.0",
            "_model_module": "@jupyter-widgets/controls"
          }
        },
        "ca57240691644e0086ac758cdfd8501a": {
          "model_module": "@jupyter-widgets/base",
          "model_name": "LayoutModel",
          "state": {
            "_view_name": "LayoutView",
            "grid_template_rows": null,
            "right": null,
            "justify_content": null,
            "_view_module": "@jupyter-widgets/base",
            "overflow": null,
            "_model_module_version": "1.2.0",
            "_view_count": null,
            "flex_flow": null,
            "width": null,
            "min_width": null,
            "border": null,
            "align_items": null,
            "bottom": null,
            "_model_module": "@jupyter-widgets/base",
            "top": null,
            "grid_column": null,
            "overflow_y": null,
            "overflow_x": null,
            "grid_auto_flow": null,
            "grid_area": null,
            "grid_template_columns": null,
            "flex": null,
            "_model_name": "LayoutModel",
            "justify_items": null,
            "grid_row": null,
            "max_height": null,
            "align_content": null,
            "visibility": null,
            "align_self": null,
            "height": null,
            "min_height": null,
            "padding": null,
            "grid_auto_rows": null,
            "grid_gap": null,
            "max_width": null,
            "order": null,
            "_view_module_version": "1.2.0",
            "grid_template_areas": null,
            "object_position": null,
            "object_fit": null,
            "grid_auto_columns": null,
            "margin": null,
            "display": null,
            "left": null
          }
        },
        "73ebefb61f5849828aebf831ea56f792": {
          "model_module": "@jupyter-widgets/controls",
          "model_name": "HBoxModel",
          "state": {
            "_view_name": "HBoxView",
            "_dom_classes": [],
            "_model_name": "HBoxModel",
            "_view_module": "@jupyter-widgets/controls",
            "_model_module_version": "1.5.0",
            "_view_count": null,
            "_view_module_version": "1.5.0",
            "box_style": "",
            "layout": "IPY_MODEL_197a7dbf36b24a93a61c91a22a7df5b9",
            "_model_module": "@jupyter-widgets/controls",
            "children": [
              "IPY_MODEL_f6b3f2c78a964a9a92ff0f55cbda2f03",
              "IPY_MODEL_007c9f0d81454dc4ace59a16f2ff4c80"
            ]
          }
        },
        "197a7dbf36b24a93a61c91a22a7df5b9": {
          "model_module": "@jupyter-widgets/base",
          "model_name": "LayoutModel",
          "state": {
            "_view_name": "LayoutView",
            "grid_template_rows": null,
            "right": null,
            "justify_content": null,
            "_view_module": "@jupyter-widgets/base",
            "overflow": null,
            "_model_module_version": "1.2.0",
            "_view_count": null,
            "flex_flow": null,
            "width": null,
            "min_width": null,
            "border": null,
            "align_items": null,
            "bottom": null,
            "_model_module": "@jupyter-widgets/base",
            "top": null,
            "grid_column": null,
            "overflow_y": null,
            "overflow_x": null,
            "grid_auto_flow": null,
            "grid_area": null,
            "grid_template_columns": null,
            "flex": null,
            "_model_name": "LayoutModel",
            "justify_items": null,
            "grid_row": null,
            "max_height": null,
            "align_content": null,
            "visibility": null,
            "align_self": null,
            "height": null,
            "min_height": null,
            "padding": null,
            "grid_auto_rows": null,
            "grid_gap": null,
            "max_width": null,
            "order": null,
            "_view_module_version": "1.2.0",
            "grid_template_areas": null,
            "object_position": null,
            "object_fit": null,
            "grid_auto_columns": null,
            "margin": null,
            "display": null,
            "left": null
          }
        },
        "f6b3f2c78a964a9a92ff0f55cbda2f03": {
          "model_module": "@jupyter-widgets/controls",
          "model_name": "FloatProgressModel",
          "state": {
            "_view_name": "ProgressView",
            "style": "IPY_MODEL_9a1ac857c4794cfeb45291aefe7f4352",
            "_dom_classes": [],
            "description": "100%",
            "_model_name": "FloatProgressModel",
            "bar_style": "success",
            "max": 12496,
            "_view_module": "@jupyter-widgets/controls",
            "_model_module_version": "1.5.0",
            "value": 12496,
            "_view_count": null,
            "_view_module_version": "1.5.0",
            "orientation": "horizontal",
            "min": 0,
            "description_tooltip": null,
            "_model_module": "@jupyter-widgets/controls",
            "layout": "IPY_MODEL_b1fd7bd8a02c4347b22cec42bcd92e95"
          }
        },
        "007c9f0d81454dc4ace59a16f2ff4c80": {
          "model_module": "@jupyter-widgets/controls",
          "model_name": "HTMLModel",
          "state": {
            "_view_name": "HTMLView",
            "style": "IPY_MODEL_7b0f3af8f6a74d6b9d33f024ed7646e0",
            "_dom_classes": [],
            "description": "",
            "_model_name": "HTMLModel",
            "placeholder": "​",
            "_view_module": "@jupyter-widgets/controls",
            "_model_module_version": "1.5.0",
            "value": " 12496/12496 [21:22&lt;00:00,  9.75it/s]",
            "_view_count": null,
            "_view_module_version": "1.5.0",
            "description_tooltip": null,
            "_model_module": "@jupyter-widgets/controls",
            "layout": "IPY_MODEL_bd64ff01eb0c446e909b4702e2776903"
          }
        },
        "9a1ac857c4794cfeb45291aefe7f4352": {
          "model_module": "@jupyter-widgets/controls",
          "model_name": "ProgressStyleModel",
          "state": {
            "_view_name": "StyleView",
            "_model_name": "ProgressStyleModel",
            "description_width": "initial",
            "_view_module": "@jupyter-widgets/base",
            "_model_module_version": "1.5.0",
            "_view_count": null,
            "_view_module_version": "1.2.0",
            "bar_color": null,
            "_model_module": "@jupyter-widgets/controls"
          }
        },
        "b1fd7bd8a02c4347b22cec42bcd92e95": {
          "model_module": "@jupyter-widgets/base",
          "model_name": "LayoutModel",
          "state": {
            "_view_name": "LayoutView",
            "grid_template_rows": null,
            "right": null,
            "justify_content": null,
            "_view_module": "@jupyter-widgets/base",
            "overflow": null,
            "_model_module_version": "1.2.0",
            "_view_count": null,
            "flex_flow": null,
            "width": null,
            "min_width": null,
            "border": null,
            "align_items": null,
            "bottom": null,
            "_model_module": "@jupyter-widgets/base",
            "top": null,
            "grid_column": null,
            "overflow_y": null,
            "overflow_x": null,
            "grid_auto_flow": null,
            "grid_area": null,
            "grid_template_columns": null,
            "flex": null,
            "_model_name": "LayoutModel",
            "justify_items": null,
            "grid_row": null,
            "max_height": null,
            "align_content": null,
            "visibility": null,
            "align_self": null,
            "height": null,
            "min_height": null,
            "padding": null,
            "grid_auto_rows": null,
            "grid_gap": null,
            "max_width": null,
            "order": null,
            "_view_module_version": "1.2.0",
            "grid_template_areas": null,
            "object_position": null,
            "object_fit": null,
            "grid_auto_columns": null,
            "margin": null,
            "display": null,
            "left": null
          }
        },
        "7b0f3af8f6a74d6b9d33f024ed7646e0": {
          "model_module": "@jupyter-widgets/controls",
          "model_name": "DescriptionStyleModel",
          "state": {
            "_view_name": "StyleView",
            "_model_name": "DescriptionStyleModel",
            "description_width": "",
            "_view_module": "@jupyter-widgets/base",
            "_model_module_version": "1.5.0",
            "_view_count": null,
            "_view_module_version": "1.2.0",
            "_model_module": "@jupyter-widgets/controls"
          }
        },
        "bd64ff01eb0c446e909b4702e2776903": {
          "model_module": "@jupyter-widgets/base",
          "model_name": "LayoutModel",
          "state": {
            "_view_name": "LayoutView",
            "grid_template_rows": null,
            "right": null,
            "justify_content": null,
            "_view_module": "@jupyter-widgets/base",
            "overflow": null,
            "_model_module_version": "1.2.0",
            "_view_count": null,
            "flex_flow": null,
            "width": null,
            "min_width": null,
            "border": null,
            "align_items": null,
            "bottom": null,
            "_model_module": "@jupyter-widgets/base",
            "top": null,
            "grid_column": null,
            "overflow_y": null,
            "overflow_x": null,
            "grid_auto_flow": null,
            "grid_area": null,
            "grid_template_columns": null,
            "flex": null,
            "_model_name": "LayoutModel",
            "justify_items": null,
            "grid_row": null,
            "max_height": null,
            "align_content": null,
            "visibility": null,
            "align_self": null,
            "height": null,
            "min_height": null,
            "padding": null,
            "grid_auto_rows": null,
            "grid_gap": null,
            "max_width": null,
            "order": null,
            "_view_module_version": "1.2.0",
            "grid_template_areas": null,
            "object_position": null,
            "object_fit": null,
            "grid_auto_columns": null,
            "margin": null,
            "display": null,
            "left": null
          }
        },
        "02dae0318ea341bdb68e35b7a00f0a64": {
          "model_module": "@jupyter-widgets/controls",
          "model_name": "HBoxModel",
          "state": {
            "_view_name": "HBoxView",
            "_dom_classes": [],
            "_model_name": "HBoxModel",
            "_view_module": "@jupyter-widgets/controls",
            "_model_module_version": "1.5.0",
            "_view_count": null,
            "_view_module_version": "1.5.0",
            "box_style": "",
            "layout": "IPY_MODEL_027c299b398e4324a2209e253b260dae",
            "_model_module": "@jupyter-widgets/controls",
            "children": [
              "IPY_MODEL_a2cfed893ca9414380d1ed5c128b86d1",
              "IPY_MODEL_5ff44aa44be34654b7fe5d1d8f5bcc7f"
            ]
          }
        },
        "027c299b398e4324a2209e253b260dae": {
          "model_module": "@jupyter-widgets/base",
          "model_name": "LayoutModel",
          "state": {
            "_view_name": "LayoutView",
            "grid_template_rows": null,
            "right": null,
            "justify_content": null,
            "_view_module": "@jupyter-widgets/base",
            "overflow": null,
            "_model_module_version": "1.2.0",
            "_view_count": null,
            "flex_flow": null,
            "width": null,
            "min_width": null,
            "border": null,
            "align_items": null,
            "bottom": null,
            "_model_module": "@jupyter-widgets/base",
            "top": null,
            "grid_column": null,
            "overflow_y": null,
            "overflow_x": null,
            "grid_auto_flow": null,
            "grid_area": null,
            "grid_template_columns": null,
            "flex": null,
            "_model_name": "LayoutModel",
            "justify_items": null,
            "grid_row": null,
            "max_height": null,
            "align_content": null,
            "visibility": null,
            "align_self": null,
            "height": null,
            "min_height": null,
            "padding": null,
            "grid_auto_rows": null,
            "grid_gap": null,
            "max_width": null,
            "order": null,
            "_view_module_version": "1.2.0",
            "grid_template_areas": null,
            "object_position": null,
            "object_fit": null,
            "grid_auto_columns": null,
            "margin": null,
            "display": null,
            "left": null
          }
        },
        "a2cfed893ca9414380d1ed5c128b86d1": {
          "model_module": "@jupyter-widgets/controls",
          "model_name": "FloatProgressModel",
          "state": {
            "_view_name": "ProgressView",
            "style": "IPY_MODEL_7de45331035144399d083c293256cdad",
            "_dom_classes": [],
            "description": "100%",
            "_model_name": "FloatProgressModel",
            "bar_style": "success",
            "max": 1562,
            "_view_module": "@jupyter-widgets/controls",
            "_model_module_version": "1.5.0",
            "value": 1562,
            "_view_count": null,
            "_view_module_version": "1.5.0",
            "orientation": "horizontal",
            "min": 0,
            "description_tooltip": null,
            "_model_module": "@jupyter-widgets/controls",
            "layout": "IPY_MODEL_b40d3756b96141e48bc2c6a76591ef57"
          }
        },
        "5ff44aa44be34654b7fe5d1d8f5bcc7f": {
          "model_module": "@jupyter-widgets/controls",
          "model_name": "HTMLModel",
          "state": {
            "_view_name": "HTMLView",
            "style": "IPY_MODEL_b6c13ab5cccd43fc81181858312f1fe4",
            "_dom_classes": [],
            "description": "",
            "_model_name": "HTMLModel",
            "placeholder": "​",
            "_view_module": "@jupyter-widgets/controls",
            "_model_module_version": "1.5.0",
            "value": " 1562/1562 [46:31&lt;00:00,  1.79s/it]",
            "_view_count": null,
            "_view_module_version": "1.5.0",
            "description_tooltip": null,
            "_model_module": "@jupyter-widgets/controls",
            "layout": "IPY_MODEL_746a2d84f75841509310f2da0c84e94b"
          }
        },
        "7de45331035144399d083c293256cdad": {
          "model_module": "@jupyter-widgets/controls",
          "model_name": "ProgressStyleModel",
          "state": {
            "_view_name": "StyleView",
            "_model_name": "ProgressStyleModel",
            "description_width": "initial",
            "_view_module": "@jupyter-widgets/base",
            "_model_module_version": "1.5.0",
            "_view_count": null,
            "_view_module_version": "1.2.0",
            "bar_color": null,
            "_model_module": "@jupyter-widgets/controls"
          }
        },
        "b40d3756b96141e48bc2c6a76591ef57": {
          "model_module": "@jupyter-widgets/base",
          "model_name": "LayoutModel",
          "state": {
            "_view_name": "LayoutView",
            "grid_template_rows": null,
            "right": null,
            "justify_content": null,
            "_view_module": "@jupyter-widgets/base",
            "overflow": null,
            "_model_module_version": "1.2.0",
            "_view_count": null,
            "flex_flow": null,
            "width": null,
            "min_width": null,
            "border": null,
            "align_items": null,
            "bottom": null,
            "_model_module": "@jupyter-widgets/base",
            "top": null,
            "grid_column": null,
            "overflow_y": null,
            "overflow_x": null,
            "grid_auto_flow": null,
            "grid_area": null,
            "grid_template_columns": null,
            "flex": null,
            "_model_name": "LayoutModel",
            "justify_items": null,
            "grid_row": null,
            "max_height": null,
            "align_content": null,
            "visibility": null,
            "align_self": null,
            "height": null,
            "min_height": null,
            "padding": null,
            "grid_auto_rows": null,
            "grid_gap": null,
            "max_width": null,
            "order": null,
            "_view_module_version": "1.2.0",
            "grid_template_areas": null,
            "object_position": null,
            "object_fit": null,
            "grid_auto_columns": null,
            "margin": null,
            "display": null,
            "left": null
          }
        },
        "b6c13ab5cccd43fc81181858312f1fe4": {
          "model_module": "@jupyter-widgets/controls",
          "model_name": "DescriptionStyleModel",
          "state": {
            "_view_name": "StyleView",
            "_model_name": "DescriptionStyleModel",
            "description_width": "",
            "_view_module": "@jupyter-widgets/base",
            "_model_module_version": "1.5.0",
            "_view_count": null,
            "_view_module_version": "1.2.0",
            "_model_module": "@jupyter-widgets/controls"
          }
        },
        "746a2d84f75841509310f2da0c84e94b": {
          "model_module": "@jupyter-widgets/base",
          "model_name": "LayoutModel",
          "state": {
            "_view_name": "LayoutView",
            "grid_template_rows": null,
            "right": null,
            "justify_content": null,
            "_view_module": "@jupyter-widgets/base",
            "overflow": null,
            "_model_module_version": "1.2.0",
            "_view_count": null,
            "flex_flow": null,
            "width": null,
            "min_width": null,
            "border": null,
            "align_items": null,
            "bottom": null,
            "_model_module": "@jupyter-widgets/base",
            "top": null,
            "grid_column": null,
            "overflow_y": null,
            "overflow_x": null,
            "grid_auto_flow": null,
            "grid_area": null,
            "grid_template_columns": null,
            "flex": null,
            "_model_name": "LayoutModel",
            "justify_items": null,
            "grid_row": null,
            "max_height": null,
            "align_content": null,
            "visibility": null,
            "align_self": null,
            "height": null,
            "min_height": null,
            "padding": null,
            "grid_auto_rows": null,
            "grid_gap": null,
            "max_width": null,
            "order": null,
            "_view_module_version": "1.2.0",
            "grid_template_areas": null,
            "object_position": null,
            "object_fit": null,
            "grid_auto_columns": null,
            "margin": null,
            "display": null,
            "left": null
          }
        },
        "98eaf26da2794589b79bc853918a646b": {
          "model_module": "@jupyter-widgets/controls",
          "model_name": "HBoxModel",
          "state": {
            "_view_name": "HBoxView",
            "_dom_classes": [],
            "_model_name": "HBoxModel",
            "_view_module": "@jupyter-widgets/controls",
            "_model_module_version": "1.5.0",
            "_view_count": null,
            "_view_module_version": "1.5.0",
            "box_style": "",
            "layout": "IPY_MODEL_883a512f563244529da7bc237c361707",
            "_model_module": "@jupyter-widgets/controls",
            "children": [
              "IPY_MODEL_72ba800eefec4578bd392f3772019c64",
              "IPY_MODEL_833e4581ec5248be8a5ddd2ead084dad"
            ]
          }
        },
        "883a512f563244529da7bc237c361707": {
          "model_module": "@jupyter-widgets/base",
          "model_name": "LayoutModel",
          "state": {
            "_view_name": "LayoutView",
            "grid_template_rows": null,
            "right": null,
            "justify_content": null,
            "_view_module": "@jupyter-widgets/base",
            "overflow": null,
            "_model_module_version": "1.2.0",
            "_view_count": null,
            "flex_flow": null,
            "width": null,
            "min_width": null,
            "border": null,
            "align_items": null,
            "bottom": null,
            "_model_module": "@jupyter-widgets/base",
            "top": null,
            "grid_column": null,
            "overflow_y": null,
            "overflow_x": null,
            "grid_auto_flow": null,
            "grid_area": null,
            "grid_template_columns": null,
            "flex": null,
            "_model_name": "LayoutModel",
            "justify_items": null,
            "grid_row": null,
            "max_height": null,
            "align_content": null,
            "visibility": null,
            "align_self": null,
            "height": null,
            "min_height": null,
            "padding": null,
            "grid_auto_rows": null,
            "grid_gap": null,
            "max_width": null,
            "order": null,
            "_view_module_version": "1.2.0",
            "grid_template_areas": null,
            "object_position": null,
            "object_fit": null,
            "grid_auto_columns": null,
            "margin": null,
            "display": null,
            "left": null
          }
        },
        "72ba800eefec4578bd392f3772019c64": {
          "model_module": "@jupyter-widgets/controls",
          "model_name": "FloatProgressModel",
          "state": {
            "_view_name": "ProgressView",
            "style": "IPY_MODEL_fe7b7daa81a24c429663a49797a1cc84",
            "_dom_classes": [],
            "description": "100%",
            "_model_name": "FloatProgressModel",
            "bar_style": "success",
            "max": 12496,
            "_view_module": "@jupyter-widgets/controls",
            "_model_module_version": "1.5.0",
            "value": 12496,
            "_view_count": null,
            "_view_module_version": "1.5.0",
            "orientation": "horizontal",
            "min": 0,
            "description_tooltip": null,
            "_model_module": "@jupyter-widgets/controls",
            "layout": "IPY_MODEL_ae898070585c4e44870a025b5ae5accd"
          }
        },
        "833e4581ec5248be8a5ddd2ead084dad": {
          "model_module": "@jupyter-widgets/controls",
          "model_name": "HTMLModel",
          "state": {
            "_view_name": "HTMLView",
            "style": "IPY_MODEL_48cfd9e3b0fa44f3b73f1720af8ba5e7",
            "_dom_classes": [],
            "description": "",
            "_model_name": "HTMLModel",
            "placeholder": "​",
            "_view_module": "@jupyter-widgets/controls",
            "_model_module_version": "1.5.0",
            "value": " 12496/12496 [45:37&lt;00:00,  4.56it/s]",
            "_view_count": null,
            "_view_module_version": "1.5.0",
            "description_tooltip": null,
            "_model_module": "@jupyter-widgets/controls",
            "layout": "IPY_MODEL_273ee9ad60dc492abeae8ed4f49da153"
          }
        },
        "fe7b7daa81a24c429663a49797a1cc84": {
          "model_module": "@jupyter-widgets/controls",
          "model_name": "ProgressStyleModel",
          "state": {
            "_view_name": "StyleView",
            "_model_name": "ProgressStyleModel",
            "description_width": "initial",
            "_view_module": "@jupyter-widgets/base",
            "_model_module_version": "1.5.0",
            "_view_count": null,
            "_view_module_version": "1.2.0",
            "bar_color": null,
            "_model_module": "@jupyter-widgets/controls"
          }
        },
        "ae898070585c4e44870a025b5ae5accd": {
          "model_module": "@jupyter-widgets/base",
          "model_name": "LayoutModel",
          "state": {
            "_view_name": "LayoutView",
            "grid_template_rows": null,
            "right": null,
            "justify_content": null,
            "_view_module": "@jupyter-widgets/base",
            "overflow": null,
            "_model_module_version": "1.2.0",
            "_view_count": null,
            "flex_flow": null,
            "width": null,
            "min_width": null,
            "border": null,
            "align_items": null,
            "bottom": null,
            "_model_module": "@jupyter-widgets/base",
            "top": null,
            "grid_column": null,
            "overflow_y": null,
            "overflow_x": null,
            "grid_auto_flow": null,
            "grid_area": null,
            "grid_template_columns": null,
            "flex": null,
            "_model_name": "LayoutModel",
            "justify_items": null,
            "grid_row": null,
            "max_height": null,
            "align_content": null,
            "visibility": null,
            "align_self": null,
            "height": null,
            "min_height": null,
            "padding": null,
            "grid_auto_rows": null,
            "grid_gap": null,
            "max_width": null,
            "order": null,
            "_view_module_version": "1.2.0",
            "grid_template_areas": null,
            "object_position": null,
            "object_fit": null,
            "grid_auto_columns": null,
            "margin": null,
            "display": null,
            "left": null
          }
        },
        "48cfd9e3b0fa44f3b73f1720af8ba5e7": {
          "model_module": "@jupyter-widgets/controls",
          "model_name": "DescriptionStyleModel",
          "state": {
            "_view_name": "StyleView",
            "_model_name": "DescriptionStyleModel",
            "description_width": "",
            "_view_module": "@jupyter-widgets/base",
            "_model_module_version": "1.5.0",
            "_view_count": null,
            "_view_module_version": "1.2.0",
            "_model_module": "@jupyter-widgets/controls"
          }
        },
        "273ee9ad60dc492abeae8ed4f49da153": {
          "model_module": "@jupyter-widgets/base",
          "model_name": "LayoutModel",
          "state": {
            "_view_name": "LayoutView",
            "grid_template_rows": null,
            "right": null,
            "justify_content": null,
            "_view_module": "@jupyter-widgets/base",
            "overflow": null,
            "_model_module_version": "1.2.0",
            "_view_count": null,
            "flex_flow": null,
            "width": null,
            "min_width": null,
            "border": null,
            "align_items": null,
            "bottom": null,
            "_model_module": "@jupyter-widgets/base",
            "top": null,
            "grid_column": null,
            "overflow_y": null,
            "overflow_x": null,
            "grid_auto_flow": null,
            "grid_area": null,
            "grid_template_columns": null,
            "flex": null,
            "_model_name": "LayoutModel",
            "justify_items": null,
            "grid_row": null,
            "max_height": null,
            "align_content": null,
            "visibility": null,
            "align_self": null,
            "height": null,
            "min_height": null,
            "padding": null,
            "grid_auto_rows": null,
            "grid_gap": null,
            "max_width": null,
            "order": null,
            "_view_module_version": "1.2.0",
            "grid_template_areas": null,
            "object_position": null,
            "object_fit": null,
            "grid_auto_columns": null,
            "margin": null,
            "display": null,
            "left": null
          }
        },
        "fca68eaf1b914324b408b69ba81e8e95": {
          "model_module": "@jupyter-widgets/controls",
          "model_name": "HBoxModel",
          "state": {
            "_view_name": "HBoxView",
            "_dom_classes": [],
            "_model_name": "HBoxModel",
            "_view_module": "@jupyter-widgets/controls",
            "_model_module_version": "1.5.0",
            "_view_count": null,
            "_view_module_version": "1.5.0",
            "box_style": "",
            "layout": "IPY_MODEL_b16875c25124419294f5801ab187a131",
            "_model_module": "@jupyter-widgets/controls",
            "children": [
              "IPY_MODEL_c30775cf16e54549b58ceb694ae8f0a2",
              "IPY_MODEL_def29303c1234ec48dbeb22b41f61396"
            ]
          }
        },
        "b16875c25124419294f5801ab187a131": {
          "model_module": "@jupyter-widgets/base",
          "model_name": "LayoutModel",
          "state": {
            "_view_name": "LayoutView",
            "grid_template_rows": null,
            "right": null,
            "justify_content": null,
            "_view_module": "@jupyter-widgets/base",
            "overflow": null,
            "_model_module_version": "1.2.0",
            "_view_count": null,
            "flex_flow": null,
            "width": null,
            "min_width": null,
            "border": null,
            "align_items": null,
            "bottom": null,
            "_model_module": "@jupyter-widgets/base",
            "top": null,
            "grid_column": null,
            "overflow_y": null,
            "overflow_x": null,
            "grid_auto_flow": null,
            "grid_area": null,
            "grid_template_columns": null,
            "flex": null,
            "_model_name": "LayoutModel",
            "justify_items": null,
            "grid_row": null,
            "max_height": null,
            "align_content": null,
            "visibility": null,
            "align_self": null,
            "height": null,
            "min_height": null,
            "padding": null,
            "grid_auto_rows": null,
            "grid_gap": null,
            "max_width": null,
            "order": null,
            "_view_module_version": "1.2.0",
            "grid_template_areas": null,
            "object_position": null,
            "object_fit": null,
            "grid_auto_columns": null,
            "margin": null,
            "display": null,
            "left": null
          }
        },
        "c30775cf16e54549b58ceb694ae8f0a2": {
          "model_module": "@jupyter-widgets/controls",
          "model_name": "FloatProgressModel",
          "state": {
            "_view_name": "ProgressView",
            "style": "IPY_MODEL_9de65219ae8f4f08bae0b242fcf1d9fb",
            "_dom_classes": [],
            "description": "100%",
            "_model_name": "FloatProgressModel",
            "bar_style": "success",
            "max": 1562,
            "_view_module": "@jupyter-widgets/controls",
            "_model_module_version": "1.5.0",
            "value": 1562,
            "_view_count": null,
            "_view_module_version": "1.5.0",
            "orientation": "horizontal",
            "min": 0,
            "description_tooltip": null,
            "_model_module": "@jupyter-widgets/controls",
            "layout": "IPY_MODEL_5e9c61a7fac449918cad15f0175095c4"
          }
        },
        "def29303c1234ec48dbeb22b41f61396": {
          "model_module": "@jupyter-widgets/controls",
          "model_name": "HTMLModel",
          "state": {
            "_view_name": "HTMLView",
            "style": "IPY_MODEL_f812586d42dc47a09911baaef3c1f5db",
            "_dom_classes": [],
            "description": "",
            "_model_name": "HTMLModel",
            "placeholder": "​",
            "_view_module": "@jupyter-widgets/controls",
            "_model_module_version": "1.5.0",
            "value": " 1562/1562 [22:15&lt;00:00,  1.17it/s]",
            "_view_count": null,
            "_view_module_version": "1.5.0",
            "description_tooltip": null,
            "_model_module": "@jupyter-widgets/controls",
            "layout": "IPY_MODEL_73f75c5f4fb245a18f5cf276cc303e7c"
          }
        },
        "9de65219ae8f4f08bae0b242fcf1d9fb": {
          "model_module": "@jupyter-widgets/controls",
          "model_name": "ProgressStyleModel",
          "state": {
            "_view_name": "StyleView",
            "_model_name": "ProgressStyleModel",
            "description_width": "initial",
            "_view_module": "@jupyter-widgets/base",
            "_model_module_version": "1.5.0",
            "_view_count": null,
            "_view_module_version": "1.2.0",
            "bar_color": null,
            "_model_module": "@jupyter-widgets/controls"
          }
        },
        "5e9c61a7fac449918cad15f0175095c4": {
          "model_module": "@jupyter-widgets/base",
          "model_name": "LayoutModel",
          "state": {
            "_view_name": "LayoutView",
            "grid_template_rows": null,
            "right": null,
            "justify_content": null,
            "_view_module": "@jupyter-widgets/base",
            "overflow": null,
            "_model_module_version": "1.2.0",
            "_view_count": null,
            "flex_flow": null,
            "width": null,
            "min_width": null,
            "border": null,
            "align_items": null,
            "bottom": null,
            "_model_module": "@jupyter-widgets/base",
            "top": null,
            "grid_column": null,
            "overflow_y": null,
            "overflow_x": null,
            "grid_auto_flow": null,
            "grid_area": null,
            "grid_template_columns": null,
            "flex": null,
            "_model_name": "LayoutModel",
            "justify_items": null,
            "grid_row": null,
            "max_height": null,
            "align_content": null,
            "visibility": null,
            "align_self": null,
            "height": null,
            "min_height": null,
            "padding": null,
            "grid_auto_rows": null,
            "grid_gap": null,
            "max_width": null,
            "order": null,
            "_view_module_version": "1.2.0",
            "grid_template_areas": null,
            "object_position": null,
            "object_fit": null,
            "grid_auto_columns": null,
            "margin": null,
            "display": null,
            "left": null
          }
        },
        "f812586d42dc47a09911baaef3c1f5db": {
          "model_module": "@jupyter-widgets/controls",
          "model_name": "DescriptionStyleModel",
          "state": {
            "_view_name": "StyleView",
            "_model_name": "DescriptionStyleModel",
            "description_width": "",
            "_view_module": "@jupyter-widgets/base",
            "_model_module_version": "1.5.0",
            "_view_count": null,
            "_view_module_version": "1.2.0",
            "_model_module": "@jupyter-widgets/controls"
          }
        },
        "73f75c5f4fb245a18f5cf276cc303e7c": {
          "model_module": "@jupyter-widgets/base",
          "model_name": "LayoutModel",
          "state": {
            "_view_name": "LayoutView",
            "grid_template_rows": null,
            "right": null,
            "justify_content": null,
            "_view_module": "@jupyter-widgets/base",
            "overflow": null,
            "_model_module_version": "1.2.0",
            "_view_count": null,
            "flex_flow": null,
            "width": null,
            "min_width": null,
            "border": null,
            "align_items": null,
            "bottom": null,
            "_model_module": "@jupyter-widgets/base",
            "top": null,
            "grid_column": null,
            "overflow_y": null,
            "overflow_x": null,
            "grid_auto_flow": null,
            "grid_area": null,
            "grid_template_columns": null,
            "flex": null,
            "_model_name": "LayoutModel",
            "justify_items": null,
            "grid_row": null,
            "max_height": null,
            "align_content": null,
            "visibility": null,
            "align_self": null,
            "height": null,
            "min_height": null,
            "padding": null,
            "grid_auto_rows": null,
            "grid_gap": null,
            "max_width": null,
            "order": null,
            "_view_module_version": "1.2.0",
            "grid_template_areas": null,
            "object_position": null,
            "object_fit": null,
            "grid_auto_columns": null,
            "margin": null,
            "display": null,
            "left": null
          }
        },
        "21eb09eb3b964c55a2d97facb5f90a85": {
          "model_module": "@jupyter-widgets/controls",
          "model_name": "HBoxModel",
          "state": {
            "_view_name": "HBoxView",
            "_dom_classes": [],
            "_model_name": "HBoxModel",
            "_view_module": "@jupyter-widgets/controls",
            "_model_module_version": "1.5.0",
            "_view_count": null,
            "_view_module_version": "1.5.0",
            "box_style": "",
            "layout": "IPY_MODEL_7adc56f5f6c745ac975e27ef18906aea",
            "_model_module": "@jupyter-widgets/controls",
            "children": [
              "IPY_MODEL_bb3ae7d957f4407abf77e0dfda3c308a",
              "IPY_MODEL_2dcca62928884c269f9c5dba5972ec83"
            ]
          }
        },
        "7adc56f5f6c745ac975e27ef18906aea": {
          "model_module": "@jupyter-widgets/base",
          "model_name": "LayoutModel",
          "state": {
            "_view_name": "LayoutView",
            "grid_template_rows": null,
            "right": null,
            "justify_content": null,
            "_view_module": "@jupyter-widgets/base",
            "overflow": null,
            "_model_module_version": "1.2.0",
            "_view_count": null,
            "flex_flow": null,
            "width": null,
            "min_width": null,
            "border": null,
            "align_items": null,
            "bottom": null,
            "_model_module": "@jupyter-widgets/base",
            "top": null,
            "grid_column": null,
            "overflow_y": null,
            "overflow_x": null,
            "grid_auto_flow": null,
            "grid_area": null,
            "grid_template_columns": null,
            "flex": null,
            "_model_name": "LayoutModel",
            "justify_items": null,
            "grid_row": null,
            "max_height": null,
            "align_content": null,
            "visibility": null,
            "align_self": null,
            "height": null,
            "min_height": null,
            "padding": null,
            "grid_auto_rows": null,
            "grid_gap": null,
            "max_width": null,
            "order": null,
            "_view_module_version": "1.2.0",
            "grid_template_areas": null,
            "object_position": null,
            "object_fit": null,
            "grid_auto_columns": null,
            "margin": null,
            "display": null,
            "left": null
          }
        },
        "bb3ae7d957f4407abf77e0dfda3c308a": {
          "model_module": "@jupyter-widgets/controls",
          "model_name": "FloatProgressModel",
          "state": {
            "_view_name": "ProgressView",
            "style": "IPY_MODEL_3a31ed3ff0054e7aa457d716757b0047",
            "_dom_classes": [],
            "description": "100%",
            "_model_name": "FloatProgressModel",
            "bar_style": "success",
            "max": 12496,
            "_view_module": "@jupyter-widgets/controls",
            "_model_module_version": "1.5.0",
            "value": 12496,
            "_view_count": null,
            "_view_module_version": "1.5.0",
            "orientation": "horizontal",
            "min": 0,
            "description_tooltip": null,
            "_model_module": "@jupyter-widgets/controls",
            "layout": "IPY_MODEL_bd6f6f7786b34079a276b3110235a61f"
          }
        },
        "2dcca62928884c269f9c5dba5972ec83": {
          "model_module": "@jupyter-widgets/controls",
          "model_name": "HTMLModel",
          "state": {
            "_view_name": "HTMLView",
            "style": "IPY_MODEL_49a82226a36845b9b5a7a816aa81eeea",
            "_dom_classes": [],
            "description": "",
            "_model_name": "HTMLModel",
            "placeholder": "​",
            "_view_module": "@jupyter-widgets/controls",
            "_model_module_version": "1.5.0",
            "value": " 12496/12496 [21:22&lt;00:00,  9.75it/s]",
            "_view_count": null,
            "_view_module_version": "1.5.0",
            "description_tooltip": null,
            "_model_module": "@jupyter-widgets/controls",
            "layout": "IPY_MODEL_e6b4c3d289784ac886f6c093054b1e64"
          }
        },
        "3a31ed3ff0054e7aa457d716757b0047": {
          "model_module": "@jupyter-widgets/controls",
          "model_name": "ProgressStyleModel",
          "state": {
            "_view_name": "StyleView",
            "_model_name": "ProgressStyleModel",
            "description_width": "initial",
            "_view_module": "@jupyter-widgets/base",
            "_model_module_version": "1.5.0",
            "_view_count": null,
            "_view_module_version": "1.2.0",
            "bar_color": null,
            "_model_module": "@jupyter-widgets/controls"
          }
        },
        "bd6f6f7786b34079a276b3110235a61f": {
          "model_module": "@jupyter-widgets/base",
          "model_name": "LayoutModel",
          "state": {
            "_view_name": "LayoutView",
            "grid_template_rows": null,
            "right": null,
            "justify_content": null,
            "_view_module": "@jupyter-widgets/base",
            "overflow": null,
            "_model_module_version": "1.2.0",
            "_view_count": null,
            "flex_flow": null,
            "width": null,
            "min_width": null,
            "border": null,
            "align_items": null,
            "bottom": null,
            "_model_module": "@jupyter-widgets/base",
            "top": null,
            "grid_column": null,
            "overflow_y": null,
            "overflow_x": null,
            "grid_auto_flow": null,
            "grid_area": null,
            "grid_template_columns": null,
            "flex": null,
            "_model_name": "LayoutModel",
            "justify_items": null,
            "grid_row": null,
            "max_height": null,
            "align_content": null,
            "visibility": null,
            "align_self": null,
            "height": null,
            "min_height": null,
            "padding": null,
            "grid_auto_rows": null,
            "grid_gap": null,
            "max_width": null,
            "order": null,
            "_view_module_version": "1.2.0",
            "grid_template_areas": null,
            "object_position": null,
            "object_fit": null,
            "grid_auto_columns": null,
            "margin": null,
            "display": null,
            "left": null
          }
        },
        "49a82226a36845b9b5a7a816aa81eeea": {
          "model_module": "@jupyter-widgets/controls",
          "model_name": "DescriptionStyleModel",
          "state": {
            "_view_name": "StyleView",
            "_model_name": "DescriptionStyleModel",
            "description_width": "",
            "_view_module": "@jupyter-widgets/base",
            "_model_module_version": "1.5.0",
            "_view_count": null,
            "_view_module_version": "1.2.0",
            "_model_module": "@jupyter-widgets/controls"
          }
        },
        "e6b4c3d289784ac886f6c093054b1e64": {
          "model_module": "@jupyter-widgets/base",
          "model_name": "LayoutModel",
          "state": {
            "_view_name": "LayoutView",
            "grid_template_rows": null,
            "right": null,
            "justify_content": null,
            "_view_module": "@jupyter-widgets/base",
            "overflow": null,
            "_model_module_version": "1.2.0",
            "_view_count": null,
            "flex_flow": null,
            "width": null,
            "min_width": null,
            "border": null,
            "align_items": null,
            "bottom": null,
            "_model_module": "@jupyter-widgets/base",
            "top": null,
            "grid_column": null,
            "overflow_y": null,
            "overflow_x": null,
            "grid_auto_flow": null,
            "grid_area": null,
            "grid_template_columns": null,
            "flex": null,
            "_model_name": "LayoutModel",
            "justify_items": null,
            "grid_row": null,
            "max_height": null,
            "align_content": null,
            "visibility": null,
            "align_self": null,
            "height": null,
            "min_height": null,
            "padding": null,
            "grid_auto_rows": null,
            "grid_gap": null,
            "max_width": null,
            "order": null,
            "_view_module_version": "1.2.0",
            "grid_template_areas": null,
            "object_position": null,
            "object_fit": null,
            "grid_auto_columns": null,
            "margin": null,
            "display": null,
            "left": null
          }
        },
        "e0c3078515604444b84f8f2acd3a79c1": {
          "model_module": "@jupyter-widgets/controls",
          "model_name": "HBoxModel",
          "state": {
            "_view_name": "HBoxView",
            "_dom_classes": [],
            "_model_name": "HBoxModel",
            "_view_module": "@jupyter-widgets/controls",
            "_model_module_version": "1.5.0",
            "_view_count": null,
            "_view_module_version": "1.5.0",
            "box_style": "",
            "layout": "IPY_MODEL_c0169ae62237447789824ba0e86a05ea",
            "_model_module": "@jupyter-widgets/controls",
            "children": [
              "IPY_MODEL_e7bae3f4b13d4dae86fbbac37867ce20",
              "IPY_MODEL_e710226d4aa8464dba7ab813664395c0"
            ]
          }
        },
        "c0169ae62237447789824ba0e86a05ea": {
          "model_module": "@jupyter-widgets/base",
          "model_name": "LayoutModel",
          "state": {
            "_view_name": "LayoutView",
            "grid_template_rows": null,
            "right": null,
            "justify_content": null,
            "_view_module": "@jupyter-widgets/base",
            "overflow": null,
            "_model_module_version": "1.2.0",
            "_view_count": null,
            "flex_flow": null,
            "width": null,
            "min_width": null,
            "border": null,
            "align_items": null,
            "bottom": null,
            "_model_module": "@jupyter-widgets/base",
            "top": null,
            "grid_column": null,
            "overflow_y": null,
            "overflow_x": null,
            "grid_auto_flow": null,
            "grid_area": null,
            "grid_template_columns": null,
            "flex": null,
            "_model_name": "LayoutModel",
            "justify_items": null,
            "grid_row": null,
            "max_height": null,
            "align_content": null,
            "visibility": null,
            "align_self": null,
            "height": null,
            "min_height": null,
            "padding": null,
            "grid_auto_rows": null,
            "grid_gap": null,
            "max_width": null,
            "order": null,
            "_view_module_version": "1.2.0",
            "grid_template_areas": null,
            "object_position": null,
            "object_fit": null,
            "grid_auto_columns": null,
            "margin": null,
            "display": null,
            "left": null
          }
        },
        "e7bae3f4b13d4dae86fbbac37867ce20": {
          "model_module": "@jupyter-widgets/controls",
          "model_name": "FloatProgressModel",
          "state": {
            "_view_name": "ProgressView",
            "style": "IPY_MODEL_dfddb0293de74e56ba6de5c227185d0b",
            "_dom_classes": [],
            "description": "100%",
            "_model_name": "FloatProgressModel",
            "bar_style": "success",
            "max": 1562,
            "_view_module": "@jupyter-widgets/controls",
            "_model_module_version": "1.5.0",
            "value": 1562,
            "_view_count": null,
            "_view_module_version": "1.5.0",
            "orientation": "horizontal",
            "min": 0,
            "description_tooltip": null,
            "_model_module": "@jupyter-widgets/controls",
            "layout": "IPY_MODEL_ac4e811735fc4ba787aa50b532cf1a66"
          }
        },
        "e710226d4aa8464dba7ab813664395c0": {
          "model_module": "@jupyter-widgets/controls",
          "model_name": "HTMLModel",
          "state": {
            "_view_name": "HTMLView",
            "style": "IPY_MODEL_3cd6c699308b460dbf7c9ebac4a17fae",
            "_dom_classes": [],
            "description": "",
            "_model_name": "HTMLModel",
            "placeholder": "​",
            "_view_module": "@jupyter-widgets/controls",
            "_model_module_version": "1.5.0",
            "value": " 1562/1562 [03:46&lt;00:00,  6.91it/s]",
            "_view_count": null,
            "_view_module_version": "1.5.0",
            "description_tooltip": null,
            "_model_module": "@jupyter-widgets/controls",
            "layout": "IPY_MODEL_f46088426e5b498bb2b2752c1ab306e4"
          }
        },
        "dfddb0293de74e56ba6de5c227185d0b": {
          "model_module": "@jupyter-widgets/controls",
          "model_name": "ProgressStyleModel",
          "state": {
            "_view_name": "StyleView",
            "_model_name": "ProgressStyleModel",
            "description_width": "initial",
            "_view_module": "@jupyter-widgets/base",
            "_model_module_version": "1.5.0",
            "_view_count": null,
            "_view_module_version": "1.2.0",
            "bar_color": null,
            "_model_module": "@jupyter-widgets/controls"
          }
        },
        "ac4e811735fc4ba787aa50b532cf1a66": {
          "model_module": "@jupyter-widgets/base",
          "model_name": "LayoutModel",
          "state": {
            "_view_name": "LayoutView",
            "grid_template_rows": null,
            "right": null,
            "justify_content": null,
            "_view_module": "@jupyter-widgets/base",
            "overflow": null,
            "_model_module_version": "1.2.0",
            "_view_count": null,
            "flex_flow": null,
            "width": null,
            "min_width": null,
            "border": null,
            "align_items": null,
            "bottom": null,
            "_model_module": "@jupyter-widgets/base",
            "top": null,
            "grid_column": null,
            "overflow_y": null,
            "overflow_x": null,
            "grid_auto_flow": null,
            "grid_area": null,
            "grid_template_columns": null,
            "flex": null,
            "_model_name": "LayoutModel",
            "justify_items": null,
            "grid_row": null,
            "max_height": null,
            "align_content": null,
            "visibility": null,
            "align_self": null,
            "height": null,
            "min_height": null,
            "padding": null,
            "grid_auto_rows": null,
            "grid_gap": null,
            "max_width": null,
            "order": null,
            "_view_module_version": "1.2.0",
            "grid_template_areas": null,
            "object_position": null,
            "object_fit": null,
            "grid_auto_columns": null,
            "margin": null,
            "display": null,
            "left": null
          }
        },
        "3cd6c699308b460dbf7c9ebac4a17fae": {
          "model_module": "@jupyter-widgets/controls",
          "model_name": "DescriptionStyleModel",
          "state": {
            "_view_name": "StyleView",
            "_model_name": "DescriptionStyleModel",
            "description_width": "",
            "_view_module": "@jupyter-widgets/base",
            "_model_module_version": "1.5.0",
            "_view_count": null,
            "_view_module_version": "1.2.0",
            "_model_module": "@jupyter-widgets/controls"
          }
        },
        "f46088426e5b498bb2b2752c1ab306e4": {
          "model_module": "@jupyter-widgets/base",
          "model_name": "LayoutModel",
          "state": {
            "_view_name": "LayoutView",
            "grid_template_rows": null,
            "right": null,
            "justify_content": null,
            "_view_module": "@jupyter-widgets/base",
            "overflow": null,
            "_model_module_version": "1.2.0",
            "_view_count": null,
            "flex_flow": null,
            "width": null,
            "min_width": null,
            "border": null,
            "align_items": null,
            "bottom": null,
            "_model_module": "@jupyter-widgets/base",
            "top": null,
            "grid_column": null,
            "overflow_y": null,
            "overflow_x": null,
            "grid_auto_flow": null,
            "grid_area": null,
            "grid_template_columns": null,
            "flex": null,
            "_model_name": "LayoutModel",
            "justify_items": null,
            "grid_row": null,
            "max_height": null,
            "align_content": null,
            "visibility": null,
            "align_self": null,
            "height": null,
            "min_height": null,
            "padding": null,
            "grid_auto_rows": null,
            "grid_gap": null,
            "max_width": null,
            "order": null,
            "_view_module_version": "1.2.0",
            "grid_template_areas": null,
            "object_position": null,
            "object_fit": null,
            "grid_auto_columns": null,
            "margin": null,
            "display": null,
            "left": null
          }
        },
        "f28aeb60355b40cbaf36164547eb0021": {
          "model_module": "@jupyter-widgets/controls",
          "model_name": "HBoxModel",
          "state": {
            "_view_name": "HBoxView",
            "_dom_classes": [],
            "_model_name": "HBoxModel",
            "_view_module": "@jupyter-widgets/controls",
            "_model_module_version": "1.5.0",
            "_view_count": null,
            "_view_module_version": "1.5.0",
            "box_style": "",
            "layout": "IPY_MODEL_737035f108d64d37829c0fa7d7e52092",
            "_model_module": "@jupyter-widgets/controls",
            "children": [
              "IPY_MODEL_a22da4f335ba456b8527dd13c954f31c",
              "IPY_MODEL_d33b58022d95477db1efaeac7d252bc0"
            ]
          }
        },
        "737035f108d64d37829c0fa7d7e52092": {
          "model_module": "@jupyter-widgets/base",
          "model_name": "LayoutModel",
          "state": {
            "_view_name": "LayoutView",
            "grid_template_rows": null,
            "right": null,
            "justify_content": null,
            "_view_module": "@jupyter-widgets/base",
            "overflow": null,
            "_model_module_version": "1.2.0",
            "_view_count": null,
            "flex_flow": null,
            "width": null,
            "min_width": null,
            "border": null,
            "align_items": null,
            "bottom": null,
            "_model_module": "@jupyter-widgets/base",
            "top": null,
            "grid_column": null,
            "overflow_y": null,
            "overflow_x": null,
            "grid_auto_flow": null,
            "grid_area": null,
            "grid_template_columns": null,
            "flex": null,
            "_model_name": "LayoutModel",
            "justify_items": null,
            "grid_row": null,
            "max_height": null,
            "align_content": null,
            "visibility": null,
            "align_self": null,
            "height": null,
            "min_height": null,
            "padding": null,
            "grid_auto_rows": null,
            "grid_gap": null,
            "max_width": null,
            "order": null,
            "_view_module_version": "1.2.0",
            "grid_template_areas": null,
            "object_position": null,
            "object_fit": null,
            "grid_auto_columns": null,
            "margin": null,
            "display": null,
            "left": null
          }
        },
        "a22da4f335ba456b8527dd13c954f31c": {
          "model_module": "@jupyter-widgets/controls",
          "model_name": "FloatProgressModel",
          "state": {
            "_view_name": "ProgressView",
            "style": "IPY_MODEL_cffb7a0e83ab420ea3a68a0b6e2d6ab9",
            "_dom_classes": [],
            "description": "100%",
            "_model_name": "FloatProgressModel",
            "bar_style": "success",
            "max": 1562,
            "_view_module": "@jupyter-widgets/controls",
            "_model_module_version": "1.5.0",
            "value": 1562,
            "_view_count": null,
            "_view_module_version": "1.5.0",
            "orientation": "horizontal",
            "min": 0,
            "description_tooltip": null,
            "_model_module": "@jupyter-widgets/controls",
            "layout": "IPY_MODEL_b158d45aed584edfb972e2f702079f14"
          }
        },
        "d33b58022d95477db1efaeac7d252bc0": {
          "model_module": "@jupyter-widgets/controls",
          "model_name": "HTMLModel",
          "state": {
            "_view_name": "HTMLView",
            "style": "IPY_MODEL_6bcfe752b72e47eba371444b2204d8d0",
            "_dom_classes": [],
            "description": "",
            "_model_name": "HTMLModel",
            "placeholder": "​",
            "_view_module": "@jupyter-widgets/controls",
            "_model_module_version": "1.5.0",
            "value": " 1562/1562 [27:41&lt;00:00,  1.06s/it]",
            "_view_count": null,
            "_view_module_version": "1.5.0",
            "description_tooltip": null,
            "_model_module": "@jupyter-widgets/controls",
            "layout": "IPY_MODEL_19f14e2fda514817a3813d795c8cfe75"
          }
        },
        "cffb7a0e83ab420ea3a68a0b6e2d6ab9": {
          "model_module": "@jupyter-widgets/controls",
          "model_name": "ProgressStyleModel",
          "state": {
            "_view_name": "StyleView",
            "_model_name": "ProgressStyleModel",
            "description_width": "initial",
            "_view_module": "@jupyter-widgets/base",
            "_model_module_version": "1.5.0",
            "_view_count": null,
            "_view_module_version": "1.2.0",
            "bar_color": null,
            "_model_module": "@jupyter-widgets/controls"
          }
        },
        "b158d45aed584edfb972e2f702079f14": {
          "model_module": "@jupyter-widgets/base",
          "model_name": "LayoutModel",
          "state": {
            "_view_name": "LayoutView",
            "grid_template_rows": null,
            "right": null,
            "justify_content": null,
            "_view_module": "@jupyter-widgets/base",
            "overflow": null,
            "_model_module_version": "1.2.0",
            "_view_count": null,
            "flex_flow": null,
            "width": null,
            "min_width": null,
            "border": null,
            "align_items": null,
            "bottom": null,
            "_model_module": "@jupyter-widgets/base",
            "top": null,
            "grid_column": null,
            "overflow_y": null,
            "overflow_x": null,
            "grid_auto_flow": null,
            "grid_area": null,
            "grid_template_columns": null,
            "flex": null,
            "_model_name": "LayoutModel",
            "justify_items": null,
            "grid_row": null,
            "max_height": null,
            "align_content": null,
            "visibility": null,
            "align_self": null,
            "height": null,
            "min_height": null,
            "padding": null,
            "grid_auto_rows": null,
            "grid_gap": null,
            "max_width": null,
            "order": null,
            "_view_module_version": "1.2.0",
            "grid_template_areas": null,
            "object_position": null,
            "object_fit": null,
            "grid_auto_columns": null,
            "margin": null,
            "display": null,
            "left": null
          }
        },
        "6bcfe752b72e47eba371444b2204d8d0": {
          "model_module": "@jupyter-widgets/controls",
          "model_name": "DescriptionStyleModel",
          "state": {
            "_view_name": "StyleView",
            "_model_name": "DescriptionStyleModel",
            "description_width": "",
            "_view_module": "@jupyter-widgets/base",
            "_model_module_version": "1.5.0",
            "_view_count": null,
            "_view_module_version": "1.2.0",
            "_model_module": "@jupyter-widgets/controls"
          }
        },
        "19f14e2fda514817a3813d795c8cfe75": {
          "model_module": "@jupyter-widgets/base",
          "model_name": "LayoutModel",
          "state": {
            "_view_name": "LayoutView",
            "grid_template_rows": null,
            "right": null,
            "justify_content": null,
            "_view_module": "@jupyter-widgets/base",
            "overflow": null,
            "_model_module_version": "1.2.0",
            "_view_count": null,
            "flex_flow": null,
            "width": null,
            "min_width": null,
            "border": null,
            "align_items": null,
            "bottom": null,
            "_model_module": "@jupyter-widgets/base",
            "top": null,
            "grid_column": null,
            "overflow_y": null,
            "overflow_x": null,
            "grid_auto_flow": null,
            "grid_area": null,
            "grid_template_columns": null,
            "flex": null,
            "_model_name": "LayoutModel",
            "justify_items": null,
            "grid_row": null,
            "max_height": null,
            "align_content": null,
            "visibility": null,
            "align_self": null,
            "height": null,
            "min_height": null,
            "padding": null,
            "grid_auto_rows": null,
            "grid_gap": null,
            "max_width": null,
            "order": null,
            "_view_module_version": "1.2.0",
            "grid_template_areas": null,
            "object_position": null,
            "object_fit": null,
            "grid_auto_columns": null,
            "margin": null,
            "display": null,
            "left": null
          }
        }
      }
    }
  },
  "cells": [
    {
      "cell_type": "markdown",
      "metadata": {
        "id": "zr1c3ZG0846o"
      },
      "source": [
        "# RNN model notebook"
      ]
    },
    {
      "cell_type": "code",
      "metadata": {
        "id": "A2HgRx70o5TR"
      },
      "source": [
        "!pip install -q gdown"
      ],
      "execution_count": 1,
      "outputs": []
    },
    {
      "cell_type": "markdown",
      "metadata": {
        "id": "vb-NEC4sw0Lk"
      },
      "source": [
        "### Importing required libraries"
      ]
    },
    {
      "cell_type": "code",
      "metadata": {
        "id": "BVI3DzeCoPKF"
      },
      "source": [
        "import gdown\r\n",
        "import json\r\n",
        "import numpy as np\r\n",
        "import pandas as pd\r\n",
        "\r\n",
        "import matplotlib.pyplot as plt\r\n",
        "%matplotlib inline\r\n",
        "from IPython.display import clear_output\r\n",
        "import seaborn as sns\r\n",
        "\r\n",
        "import torch\r\n",
        "import torch.nn as nn\r\n",
        "import torch.nn.functional as F\r\n",
        "from torch.utils.data import random_split\r\n",
        "from torch.utils.data import DataLoader\r\n",
        "from tqdm.notebook import tqdm\r\n",
        "from sklearn.metrics import f1_score"
      ],
      "execution_count": 2,
      "outputs": []
    },
    {
      "cell_type": "markdown",
      "metadata": {
        "id": "0JD-SyiPxB6O"
      },
      "source": [
        "## Data donwload"
      ]
    },
    {
      "cell_type": "code",
      "metadata": {
        "colab": {
          "base_uri": "https://localhost:8080/",
          "height": 35
        },
        "id": "iQNv8XYkolNV",
        "outputId": "4342818a-a860-40b4-a004-0e9194150258"
      },
      "source": [
        "gdown.download(\"https://drive.google.com/u/0/uc?export=download&confirm=znhq&id=1RHS3GdZNM9yz89GNWYycc3V94ezI3JzC\", \"request.gz\", True)"
      ],
      "execution_count": 3,
      "outputs": [
        {
          "output_type": "execute_result",
          "data": {
            "application/vnd.google.colaboratory.intrinsic+json": {
              "type": "string"
            },
            "text/plain": [
              "'request.gz'"
            ]
          },
          "metadata": {
            "tags": []
          },
          "execution_count": 3
        }
      ]
    },
    {
      "cell_type": "code",
      "metadata": {
        "id": "CYSHwgsvpiCI"
      },
      "source": [
        "!gunzip request.gz"
      ],
      "execution_count": 4,
      "outputs": []
    },
    {
      "cell_type": "markdown",
      "metadata": {
        "id": "XKYDLEbIxTrb"
      },
      "source": [
        "### Data preprocessing"
      ]
    },
    {
      "cell_type": "code",
      "metadata": {
        "id": "h_hdlxDqs5KT"
      },
      "source": [
        "data = pd.read_json(\"/content/request\", lines=True)"
      ],
      "execution_count": 5,
      "outputs": []
    },
    {
      "cell_type": "code",
      "metadata": {
        "colab": {
          "base_uri": "https://localhost:8080/",
          "height": 279
        },
        "id": "CEglRlFoyf6b",
        "outputId": "a189ec8c-5704-49e0-8010-f6e5778d4550"
      },
      "source": [
        "data.head()"
      ],
      "execution_count": 6,
      "outputs": [
        {
          "output_type": "execute_result",
          "data": {
            "text/html": [
              "<div>\n",
              "<style scoped>\n",
              "    .dataframe tbody tr th:only-of-type {\n",
              "        vertical-align: middle;\n",
              "    }\n",
              "\n",
              "    .dataframe tbody tr th {\n",
              "        vertical-align: top;\n",
              "    }\n",
              "\n",
              "    .dataframe thead th {\n",
              "        text-align: right;\n",
              "    }\n",
              "</style>\n",
              "<table border=\"1\" class=\"dataframe\">\n",
              "  <thead>\n",
              "    <tr style=\"text-align: right;\">\n",
              "      <th></th>\n",
              "      <th>overall</th>\n",
              "      <th>verified</th>\n",
              "      <th>reviewTime</th>\n",
              "      <th>reviewerID</th>\n",
              "      <th>asin</th>\n",
              "      <th>style</th>\n",
              "      <th>reviewerName</th>\n",
              "      <th>reviewText</th>\n",
              "      <th>summary</th>\n",
              "      <th>unixReviewTime</th>\n",
              "      <th>vote</th>\n",
              "      <th>image</th>\n",
              "    </tr>\n",
              "  </thead>\n",
              "  <tbody>\n",
              "    <tr>\n",
              "      <th>0</th>\n",
              "      <td>4</td>\n",
              "      <td>False</td>\n",
              "      <td>05 1, 2015</td>\n",
              "      <td>A8WEXFRWX1ZHH</td>\n",
              "      <td>0209688726</td>\n",
              "      <td>{'Color:': ' AC'}</td>\n",
              "      <td>Goldengate</td>\n",
              "      <td>After I wrote the below review, the manufactur...</td>\n",
              "      <td>Works well if you place phone in horizontally ...</td>\n",
              "      <td>1430438400</td>\n",
              "      <td>NaN</td>\n",
              "      <td>NaN</td>\n",
              "    </tr>\n",
              "    <tr>\n",
              "      <th>1</th>\n",
              "      <td>1</td>\n",
              "      <td>True</td>\n",
              "      <td>04 19, 2018</td>\n",
              "      <td>ABCA1A8E4DGV1</td>\n",
              "      <td>0209688726</td>\n",
              "      <td>{'Color:': ' Blue'}</td>\n",
              "      <td>noe</td>\n",
              "      <td>It sucks barely picks up anything definitely n...</td>\n",
              "      <td>sucks</td>\n",
              "      <td>1524096000</td>\n",
              "      <td>NaN</td>\n",
              "      <td>NaN</td>\n",
              "    </tr>\n",
              "    <tr>\n",
              "      <th>2</th>\n",
              "      <td>1</td>\n",
              "      <td>True</td>\n",
              "      <td>04 16, 2018</td>\n",
              "      <td>A1NX8HM89FRQ32</td>\n",
              "      <td>0209688726</td>\n",
              "      <td>{'Color:': ' Black'}</td>\n",
              "      <td>Eduard</td>\n",
              "      <td>Well to write a short one, it blew 2 fuses of ...</td>\n",
              "      <td>Defective</td>\n",
              "      <td>1523836800</td>\n",
              "      <td>NaN</td>\n",
              "      <td>NaN</td>\n",
              "    </tr>\n",
              "    <tr>\n",
              "      <th>3</th>\n",
              "      <td>3</td>\n",
              "      <td>True</td>\n",
              "      <td>04 13, 2018</td>\n",
              "      <td>A1X77G023NY0KY</td>\n",
              "      <td>0209688726</td>\n",
              "      <td>{'Color:': ' CA'}</td>\n",
              "      <td>Lauren</td>\n",
              "      <td>I have absolutely no memory of buying this but...</td>\n",
              "      <td>Looks cool! Probably works</td>\n",
              "      <td>1523577600</td>\n",
              "      <td>NaN</td>\n",
              "      <td>NaN</td>\n",
              "    </tr>\n",
              "    <tr>\n",
              "      <th>4</th>\n",
              "      <td>5</td>\n",
              "      <td>True</td>\n",
              "      <td>04 8, 2018</td>\n",
              "      <td>A3GK37JO2MGW6Q</td>\n",
              "      <td>0209688726</td>\n",
              "      <td>{'Color:': ' Black'}</td>\n",
              "      <td>danny</td>\n",
              "      <td>it ok it does it job</td>\n",
              "      <td>Five Stars</td>\n",
              "      <td>1523145600</td>\n",
              "      <td>NaN</td>\n",
              "      <td>NaN</td>\n",
              "    </tr>\n",
              "  </tbody>\n",
              "</table>\n",
              "</div>"
            ],
            "text/plain": [
              "   overall  verified   reviewTime  ... unixReviewTime vote image\n",
              "0        4     False   05 1, 2015  ...     1430438400  NaN   NaN\n",
              "1        1      True  04 19, 2018  ...     1524096000  NaN   NaN\n",
              "2        1      True  04 16, 2018  ...     1523836800  NaN   NaN\n",
              "3        3      True  04 13, 2018  ...     1523577600  NaN   NaN\n",
              "4        5      True   04 8, 2018  ...     1523145600  NaN   NaN\n",
              "\n",
              "[5 rows x 12 columns]"
            ]
          },
          "metadata": {
            "tags": []
          },
          "execution_count": 6
        }
      ]
    },
    {
      "cell_type": "markdown",
      "metadata": {
        "id": "-iQ2nA4wy40t"
      },
      "source": [
        "Deleting redundant data columns (\r\n",
        "\r\n",
        "---\r\n",
        "\r\n",
        "I tried to train the model on the \"summary\" data (and got quite good results - 0.81 f1_score) \r\n",
        "     \r\n",
        "BUT! \"Summary\" does not contain enough information, as comment section does. That's why I am dropping \"summary\" in the next cells\r\n",
        "\r\n"
      ]
    },
    {
      "cell_type": "code",
      "metadata": {
        "id": "I6lj0UkivF_0"
      },
      "source": [
        "data = data[[\"overall\", \"reviewText\"]]"
      ],
      "execution_count": 7,
      "outputs": []
    },
    {
      "cell_type": "markdown",
      "metadata": {
        "id": "LbY_46I4z8Xu"
      },
      "source": [
        "Check for NaN values"
      ]
    },
    {
      "cell_type": "code",
      "metadata": {
        "colab": {
          "base_uri": "https://localhost:8080/"
        },
        "id": "c3SKYIbJvTyD",
        "outputId": "f45deccd-fa11-4abf-fc48-84d70ae0380e"
      },
      "source": [
        "data.isna().any()"
      ],
      "execution_count": 8,
      "outputs": [
        {
          "output_type": "execute_result",
          "data": {
            "text/plain": [
              "overall       False\n",
              "reviewText     True\n",
              "dtype: bool"
            ]
          },
          "metadata": {
            "tags": []
          },
          "execution_count": 8
        }
      ]
    },
    {
      "cell_type": "code",
      "metadata": {
        "colab": {
          "base_uri": "https://localhost:8080/"
        },
        "id": "GONAuOgbvbKY",
        "outputId": "f80b73a4-856a-4bf2-932b-836cfc77e1bb"
      },
      "source": [
        "print(\"Amount of samples BEFORE dropping empty values: \", data.shape[0])\r\n",
        "print(\"Amount of samples AFTER dropping empty values: \", data.dropna().shape[0])\r\n",
        "print(\"Amount of dropped lines: \", data.shape[0] - data.dropna().shape[0])"
      ],
      "execution_count": 9,
      "outputs": [
        {
          "output_type": "stream",
          "text": [
            "Amount of samples BEFORE dropping empty values:  1000000\n",
            "Amount of samples AFTER dropping empty values:  999636\n",
            "Amount of dropped lines:  364\n"
          ],
          "name": "stdout"
        }
      ]
    },
    {
      "cell_type": "markdown",
      "metadata": {
        "id": "CY74Y1vT0CWJ"
      },
      "source": [
        "Delete missed values and reset index"
      ]
    },
    {
      "cell_type": "code",
      "metadata": {
        "id": "Vmb0m66Yvfes"
      },
      "source": [
        "data.dropna(inplace=True)"
      ],
      "execution_count": 10,
      "outputs": []
    },
    {
      "cell_type": "code",
      "metadata": {
        "id": "EqZaRILBeY09"
      },
      "source": [
        "data.reset_index(drop=True, inplace=True)"
      ],
      "execution_count": 11,
      "outputs": []
    },
    {
      "cell_type": "code",
      "metadata": {
        "colab": {
          "base_uri": "https://localhost:8080/",
          "height": 284
        },
        "id": "l8tvJgZMww4z",
        "outputId": "a3ac8d5b-9ab6-4b46-a288-0d72249c7a94"
      },
      "source": [
        "data.describe()"
      ],
      "execution_count": 12,
      "outputs": [
        {
          "output_type": "execute_result",
          "data": {
            "text/html": [
              "<div>\n",
              "<style scoped>\n",
              "    .dataframe tbody tr th:only-of-type {\n",
              "        vertical-align: middle;\n",
              "    }\n",
              "\n",
              "    .dataframe tbody tr th {\n",
              "        vertical-align: top;\n",
              "    }\n",
              "\n",
              "    .dataframe thead th {\n",
              "        text-align: right;\n",
              "    }\n",
              "</style>\n",
              "<table border=\"1\" class=\"dataframe\">\n",
              "  <thead>\n",
              "    <tr style=\"text-align: right;\">\n",
              "      <th></th>\n",
              "      <th>overall</th>\n",
              "    </tr>\n",
              "  </thead>\n",
              "  <tbody>\n",
              "    <tr>\n",
              "      <th>count</th>\n",
              "      <td>999636.000000</td>\n",
              "    </tr>\n",
              "    <tr>\n",
              "      <th>mean</th>\n",
              "      <td>4.480915</td>\n",
              "    </tr>\n",
              "    <tr>\n",
              "      <th>std</th>\n",
              "      <td>1.022296</td>\n",
              "    </tr>\n",
              "    <tr>\n",
              "      <th>min</th>\n",
              "      <td>1.000000</td>\n",
              "    </tr>\n",
              "    <tr>\n",
              "      <th>25%</th>\n",
              "      <td>4.000000</td>\n",
              "    </tr>\n",
              "    <tr>\n",
              "      <th>50%</th>\n",
              "      <td>5.000000</td>\n",
              "    </tr>\n",
              "    <tr>\n",
              "      <th>75%</th>\n",
              "      <td>5.000000</td>\n",
              "    </tr>\n",
              "    <tr>\n",
              "      <th>max</th>\n",
              "      <td>5.000000</td>\n",
              "    </tr>\n",
              "  </tbody>\n",
              "</table>\n",
              "</div>"
            ],
            "text/plain": [
              "             overall\n",
              "count  999636.000000\n",
              "mean        4.480915\n",
              "std         1.022296\n",
              "min         1.000000\n",
              "25%         4.000000\n",
              "50%         5.000000\n",
              "75%         5.000000\n",
              "max         5.000000"
            ]
          },
          "metadata": {
            "tags": []
          },
          "execution_count": 12
        }
      ]
    },
    {
      "cell_type": "code",
      "metadata": {
        "id": "taqhaBKExNlN"
      },
      "source": [
        "rate_distr = dict(data.value_counts(\"overall\"))"
      ],
      "execution_count": 13,
      "outputs": []
    },
    {
      "cell_type": "markdown",
      "metadata": {
        "id": "98j4ipAa0Kg2"
      },
      "source": [
        "**As we see, there is disbalance in our data**"
      ]
    },
    {
      "cell_type": "code",
      "metadata": {
        "colab": {
          "base_uri": "https://localhost:8080/",
          "height": 296
        },
        "id": "guAXYoWBxSv2",
        "outputId": "a2c4129a-2099-4e55-f66f-ee7ededfd24a"
      },
      "source": [
        "ax = sns.barplot(x = list(rate_distr.keys()), y = list(rate_distr.values()))\r\n",
        "ax.set(xlabel=\"Rate\", ylabel=\"Feedbacks amount\")"
      ],
      "execution_count": 14,
      "outputs": [
        {
          "output_type": "execute_result",
          "data": {
            "text/plain": [
              "[Text(0, 0.5, 'Feedbacks amount'), Text(0.5, 0, 'Rate')]"
            ]
          },
          "metadata": {
            "tags": []
          },
          "execution_count": 14
        },
        {
          "output_type": "display_data",
          "data": {
            "image/png": "[encoded data removed]",
            "text/plain": [
              "<Figure size 432x288 with 1 Axes>"
            ]
          },
          "metadata": {
            "tags": [],
            "needs_background": "light"
          }
        }
      ]
    },
    {
      "cell_type": "markdown",
      "metadata": {
        "id": "UBKgoHFP0l6N"
      },
      "source": [
        "Check the sentence lengths"
      ]
    },
    {
      "cell_type": "code",
      "metadata": {
        "id": "MNoqgkIZVTEy"
      },
      "source": [
        "reviewsLength = data[\"reviewText\"].apply(lambda x: len(x.split()))"
      ],
      "execution_count": 15,
      "outputs": []
    },
    {
      "cell_type": "code",
      "metadata": {
        "colab": {
          "base_uri": "https://localhost:8080/"
        },
        "id": "Rxswfm_XVyaM",
        "outputId": "06d4c6e6-ad93-4c69-f5f0-7097e2d34f93"
      },
      "source": [
        "reviewsLength.describe()"
      ],
      "execution_count": 16,
      "outputs": [
        {
          "output_type": "execute_result",
          "data": {
            "text/plain": [
              "count    999636.000000\n",
              "mean         36.617947\n",
              "std          58.642644\n",
              "min           0.000000\n",
              "25%           6.000000\n",
              "50%          20.000000\n",
              "75%          43.000000\n",
              "max        3727.000000\n",
              "Name: reviewText, dtype: float64"
            ]
          },
          "metadata": {
            "tags": []
          },
          "execution_count": 16
        }
      ]
    },
    {
      "cell_type": "markdown",
      "metadata": {
        "id": "gW1hw4mL002W"
      },
      "source": [
        "Decreasing the value by one for training reasons (As I have multi-class classification)"
      ]
    },
    {
      "cell_type": "code",
      "metadata": {
        "id": "BRXymUIhRNbd"
      },
      "source": [
        "data[\"overall\"] = data[\"overall\"].apply(lambda x: x-1)"
      ],
      "execution_count": 17,
      "outputs": []
    },
    {
      "cell_type": "markdown",
      "metadata": {
        "id": "x-ol7kr21JPn"
      },
      "source": [
        "### **BPE Tokenizer**\r\n",
        "\r\n",
        "---\r\n",
        "I decided to use that tokenizer as it worked well for many Neural networks and \"BPE\" appears quite offen in different papers.\r\n"
      ]
    },
    {
      "cell_type": "code",
      "metadata": {
        "colab": {
          "base_uri": "https://localhost:8080/"
        },
        "id": "ynOsJo773NBl",
        "outputId": "73766a9f-115b-4f7c-c44e-1674db2025db"
      },
      "source": [
        "!pip install -q youtokentome"
      ],
      "execution_count": 18,
      "outputs": [
        {
          "output_type": "stream",
          "text": [
            "\u001b[?25l\r\u001b[K     |▏                               | 10kB 25.2MB/s eta 0:00:01\r\u001b[K     |▍                               | 20kB 16.6MB/s eta 0:00:01\r\u001b[K     |▋                               | 30kB 13.6MB/s eta 0:00:01\r\u001b[K     |▊                               | 40kB 12.7MB/s eta 0:00:01\r\u001b[K     |█                               | 51kB 8.4MB/s eta 0:00:01\r\u001b[K     |█▏                              | 61kB 8.9MB/s eta 0:00:01\r\u001b[K     |█▍                              | 71kB 9.1MB/s eta 0:00:01\r\u001b[K     |█▌                              | 81kB 9.2MB/s eta 0:00:01\r\u001b[K     |█▊                              | 92kB 9.5MB/s eta 0:00:01\r\u001b[K     |██                              | 102kB 8.1MB/s eta 0:00:01\r\u001b[K     |██                              | 112kB 8.1MB/s eta 0:00:01\r\u001b[K     |██▎                             | 122kB 8.1MB/s eta 0:00:01\r\u001b[K     |██▌                             | 133kB 8.1MB/s eta 0:00:01\r\u001b[K     |██▊                             | 143kB 8.1MB/s eta 0:00:01\r\u001b[K     |██▉                             | 153kB 8.1MB/s eta 0:00:01\r\u001b[K     |███                             | 163kB 8.1MB/s eta 0:00:01\r\u001b[K     |███▎                            | 174kB 8.1MB/s eta 0:00:01\r\u001b[K     |███▌                            | 184kB 8.1MB/s eta 0:00:01\r\u001b[K     |███▋                            | 194kB 8.1MB/s eta 0:00:01\r\u001b[K     |███▉                            | 204kB 8.1MB/s eta 0:00:01\r\u001b[K     |████                            | 215kB 8.1MB/s eta 0:00:01\r\u001b[K     |████▏                           | 225kB 8.1MB/s eta 0:00:01\r\u001b[K     |████▍                           | 235kB 8.1MB/s eta 0:00:01\r\u001b[K     |████▋                           | 245kB 8.1MB/s eta 0:00:01\r\u001b[K     |████▉                           | 256kB 8.1MB/s eta 0:00:01\r\u001b[K     |█████                           | 266kB 8.1MB/s eta 0:00:01\r\u001b[K     |█████▏                          | 276kB 8.1MB/s eta 0:00:01\r\u001b[K     |█████▍                          | 286kB 8.1MB/s eta 0:00:01\r\u001b[K     |█████▋                          | 296kB 8.1MB/s eta 0:00:01\r\u001b[K     |█████▊                          | 307kB 8.1MB/s eta 0:00:01\r\u001b[K     |██████                          | 317kB 8.1MB/s eta 0:00:01\r\u001b[K     |██████▏                         | 327kB 8.1MB/s eta 0:00:01\r\u001b[K     |██████▎                         | 337kB 8.1MB/s eta 0:00:01\r\u001b[K     |██████▌                         | 348kB 8.1MB/s eta 0:00:01\r\u001b[K     |██████▊                         | 358kB 8.1MB/s eta 0:00:01\r\u001b[K     |███████                         | 368kB 8.1MB/s eta 0:00:01\r\u001b[K     |███████                         | 378kB 8.1MB/s eta 0:00:01\r\u001b[K     |███████▎                        | 389kB 8.1MB/s eta 0:00:01\r\u001b[K     |███████▌                        | 399kB 8.1MB/s eta 0:00:01\r\u001b[K     |███████▋                        | 409kB 8.1MB/s eta 0:00:01\r\u001b[K     |███████▉                        | 419kB 8.1MB/s eta 0:00:01\r\u001b[K     |████████                        | 430kB 8.1MB/s eta 0:00:01\r\u001b[K     |████████▎                       | 440kB 8.1MB/s eta 0:00:01\r\u001b[K     |████████▍                       | 450kB 8.1MB/s eta 0:00:01\r\u001b[K     |████████▋                       | 460kB 8.1MB/s eta 0:00:01\r\u001b[K     |████████▉                       | 471kB 8.1MB/s eta 0:00:01\r\u001b[K     |█████████                       | 481kB 8.1MB/s eta 0:00:01\r\u001b[K     |█████████▏                      | 491kB 8.1MB/s eta 0:00:01\r\u001b[K     |█████████▍                      | 501kB 8.1MB/s eta 0:00:01\r\u001b[K     |█████████▋                      | 512kB 8.1MB/s eta 0:00:01\r\u001b[K     |█████████▊                      | 522kB 8.1MB/s eta 0:00:01\r\u001b[K     |██████████                      | 532kB 8.1MB/s eta 0:00:01\r\u001b[K     |██████████▏                     | 542kB 8.1MB/s eta 0:00:01\r\u001b[K     |██████████▍                     | 552kB 8.1MB/s eta 0:00:01\r\u001b[K     |██████████▌                     | 563kB 8.1MB/s eta 0:00:01\r\u001b[K     |██████████▊                     | 573kB 8.1MB/s eta 0:00:01\r\u001b[K     |███████████                     | 583kB 8.1MB/s eta 0:00:01\r\u001b[K     |███████████▏                    | 593kB 8.1MB/s eta 0:00:01\r\u001b[K     |███████████▎                    | 604kB 8.1MB/s eta 0:00:01\r\u001b[K     |███████████▌                    | 614kB 8.1MB/s eta 0:00:01\r\u001b[K     |███████████▊                    | 624kB 8.1MB/s eta 0:00:01\r\u001b[K     |███████████▉                    | 634kB 8.1MB/s eta 0:00:01\r\u001b[K     |████████████                    | 645kB 8.1MB/s eta 0:00:01\r\u001b[K     |████████████▎                   | 655kB 8.1MB/s eta 0:00:01\r\u001b[K     |████████████▌                   | 665kB 8.1MB/s eta 0:00:01\r\u001b[K     |████████████▋                   | 675kB 8.1MB/s eta 0:00:01\r\u001b[K     |████████████▉                   | 686kB 8.1MB/s eta 0:00:01\r\u001b[K     |█████████████                   | 696kB 8.1MB/s eta 0:00:01\r\u001b[K     |█████████████▏                  | 706kB 8.1MB/s eta 0:00:01\r\u001b[K     |█████████████▍                  | 716kB 8.1MB/s eta 0:00:01\r\u001b[K     |█████████████▋                  | 727kB 8.1MB/s eta 0:00:01\r\u001b[K     |█████████████▉                  | 737kB 8.1MB/s eta 0:00:01\r\u001b[K     |██████████████                  | 747kB 8.1MB/s eta 0:00:01\r\u001b[K     |██████████████▏                 | 757kB 8.1MB/s eta 0:00:01\r\u001b[K     |██████████████▍                 | 768kB 8.1MB/s eta 0:00:01\r\u001b[K     |██████████████▋                 | 778kB 8.1MB/s eta 0:00:01\r\u001b[K     |██████████████▊                 | 788kB 8.1MB/s eta 0:00:01\r\u001b[K     |███████████████                 | 798kB 8.1MB/s eta 0:00:01\r\u001b[K     |███████████████▏                | 808kB 8.1MB/s eta 0:00:01\r\u001b[K     |███████████████▎                | 819kB 8.1MB/s eta 0:00:01\r\u001b[K     |███████████████▌                | 829kB 8.1MB/s eta 0:00:01\r\u001b[K     |███████████████▊                | 839kB 8.1MB/s eta 0:00:01\r\u001b[K     |████████████████                | 849kB 8.1MB/s eta 0:00:01\r\u001b[K     |████████████████                | 860kB 8.1MB/s eta 0:00:01\r\u001b[K     |████████████████▎               | 870kB 8.1MB/s eta 0:00:01\r\u001b[K     |████████████████▌               | 880kB 8.1MB/s eta 0:00:01\r\u001b[K     |████████████████▊               | 890kB 8.1MB/s eta 0:00:01\r\u001b[K     |████████████████▉               | 901kB 8.1MB/s eta 0:00:01\r\u001b[K     |█████████████████               | 911kB 8.1MB/s eta 0:00:01\r\u001b[K     |█████████████████▎              | 921kB 8.1MB/s eta 0:00:01\r\u001b[K     |█████████████████▍              | 931kB 8.1MB/s eta 0:00:01\r\u001b[K     |█████████████████▋              | 942kB 8.1MB/s eta 0:00:01\r\u001b[K     |█████████████████▉              | 952kB 8.1MB/s eta 0:00:01\r\u001b[K     |██████████████████              | 962kB 8.1MB/s eta 0:00:01\r\u001b[K     |██████████████████▏             | 972kB 8.1MB/s eta 0:00:01\r\u001b[K     |██████████████████▍             | 983kB 8.1MB/s eta 0:00:01\r\u001b[K     |██████████████████▋             | 993kB 8.1MB/s eta 0:00:01\r\u001b[K     |██████████████████▉             | 1.0MB 8.1MB/s eta 0:00:01\r\u001b[K     |███████████████████             | 1.0MB 8.1MB/s eta 0:00:01\r\u001b[K     |███████████████████▏            | 1.0MB 8.1MB/s eta 0:00:01\r\u001b[K     |███████████████████▍            | 1.0MB 8.1MB/s eta 0:00:01\r\u001b[K     |███████████████████▌            | 1.0MB 8.1MB/s eta 0:00:01\r\u001b[K     |███████████████████▊            | 1.1MB 8.1MB/s eta 0:00:01\r\u001b[K     |████████████████████            | 1.1MB 8.1MB/s eta 0:00:01\r\u001b[K     |████████████████████▏           | 1.1MB 8.1MB/s eta 0:00:01\r\u001b[K     |████████████████████▎           | 1.1MB 8.1MB/s eta 0:00:01\r\u001b[K     |████████████████████▌           | 1.1MB 8.1MB/s eta 0:00:01\r\u001b[K     |████████████████████▊           | 1.1MB 8.1MB/s eta 0:00:01\r\u001b[K     |████████████████████▉           | 1.1MB 8.1MB/s eta 0:00:01\r\u001b[K     |█████████████████████           | 1.1MB 8.1MB/s eta 0:00:01\r\u001b[K     |█████████████████████▎          | 1.1MB 8.1MB/s eta 0:00:01\r\u001b[K     |█████████████████████▌          | 1.1MB 8.1MB/s eta 0:00:01\r\u001b[K     |█████████████████████▋          | 1.2MB 8.1MB/s eta 0:00:01\r\u001b[K     |█████████████████████▉          | 1.2MB 8.1MB/s eta 0:00:01\r\u001b[K     |██████████████████████          | 1.2MB 8.1MB/s eta 0:00:01\r\u001b[K     |██████████████████████▎         | 1.2MB 8.1MB/s eta 0:00:01\r\u001b[K     |██████████████████████▍         | 1.2MB 8.1MB/s eta 0:00:01\r\u001b[K     |██████████████████████▋         | 1.2MB 8.1MB/s eta 0:00:01\r\u001b[K     |██████████████████████▉         | 1.2MB 8.1MB/s eta 0:00:01\r\u001b[K     |███████████████████████         | 1.2MB 8.1MB/s eta 0:00:01\r\u001b[K     |███████████████████████▏        | 1.2MB 8.1MB/s eta 0:00:01\r\u001b[K     |███████████████████████▍        | 1.2MB 8.1MB/s eta 0:00:01\r\u001b[K     |███████████████████████▋        | 1.3MB 8.1MB/s eta 0:00:01\r\u001b[K     |███████████████████████▊        | 1.3MB 8.1MB/s eta 0:00:01\r\u001b[K     |████████████████████████        | 1.3MB 8.1MB/s eta 0:00:01\r\u001b[K     |████████████████████████▏       | 1.3MB 8.1MB/s eta 0:00:01\r\u001b[K     |████████████████████████▍       | 1.3MB 8.1MB/s eta 0:00:01\r\u001b[K     |████████████████████████▌       | 1.3MB 8.1MB/s eta 0:00:01\r\u001b[K     |████████████████████████▊       | 1.3MB 8.1MB/s eta 0:00:01\r\u001b[K     |█████████████████████████       | 1.3MB 8.1MB/s eta 0:00:01\r\u001b[K     |█████████████████████████       | 1.3MB 8.1MB/s eta 0:00:01\r\u001b[K     |█████████████████████████▎      | 1.4MB 8.1MB/s eta 0:00:01\r\u001b[K     |█████████████████████████▌      | 1.4MB 8.1MB/s eta 0:00:01\r\u001b[K     |█████████████████████████▊      | 1.4MB 8.1MB/s eta 0:00:01\r\u001b[K     |█████████████████████████▉      | 1.4MB 8.1MB/s eta 0:00:01\r\u001b[K     |██████████████████████████      | 1.4MB 8.1MB/s eta 0:00:01\r\u001b[K     |██████████████████████████▎     | 1.4MB 8.1MB/s eta 0:00:01\r\u001b[K     |██████████████████████████▍     | 1.4MB 8.1MB/s eta 0:00:01\r\u001b[K     |██████████████████████████▋     | 1.4MB 8.1MB/s eta 0:00:01\r\u001b[K     |██████████████████████████▉     | 1.4MB 8.1MB/s eta 0:00:01\r\u001b[K     |███████████████████████████     | 1.4MB 8.1MB/s eta 0:00:01\r\u001b[K     |███████████████████████████▏    | 1.5MB 8.1MB/s eta 0:00:01\r\u001b[K     |███████████████████████████▍    | 1.5MB 8.1MB/s eta 0:00:01\r\u001b[K     |███████████████████████████▋    | 1.5MB 8.1MB/s eta 0:00:01\r\u001b[K     |███████████████████████████▉    | 1.5MB 8.1MB/s eta 0:00:01\r\u001b[K     |████████████████████████████    | 1.5MB 8.1MB/s eta 0:00:01\r\u001b[K     |████████████████████████████▏   | 1.5MB 8.1MB/s eta 0:00:01\r\u001b[K     |████████████████████████████▍   | 1.5MB 8.1MB/s eta 0:00:01\r\u001b[K     |████████████████████████████▌   | 1.5MB 8.1MB/s eta 0:00:01\r\u001b[K     |████████████████████████████▊   | 1.5MB 8.1MB/s eta 0:00:01\r\u001b[K     |█████████████████████████████   | 1.5MB 8.1MB/s eta 0:00:01\r\u001b[K     |█████████████████████████████▏  | 1.6MB 8.1MB/s eta 0:00:01\r\u001b[K     |█████████████████████████████▎  | 1.6MB 8.1MB/s eta 0:00:01\r\u001b[K     |█████████████████████████████▌  | 1.6MB 8.1MB/s eta 0:00:01\r\u001b[K     |█████████████████████████████▊  | 1.6MB 8.1MB/s eta 0:00:01\r\u001b[K     |██████████████████████████████  | 1.6MB 8.1MB/s eta 0:00:01\r\u001b[K     |██████████████████████████████  | 1.6MB 8.1MB/s eta 0:00:01\r\u001b[K     |██████████████████████████████▎ | 1.6MB 8.1MB/s eta 0:00:01\r\u001b[K     |██████████████████████████████▌ | 1.6MB 8.1MB/s eta 0:00:01\r\u001b[K     |██████████████████████████████▋ | 1.6MB 8.1MB/s eta 0:00:01\r\u001b[K     |██████████████████████████████▉ | 1.6MB 8.1MB/s eta 0:00:01\r\u001b[K     |███████████████████████████████ | 1.7MB 8.1MB/s eta 0:00:01\r\u001b[K     |███████████████████████████████▎| 1.7MB 8.1MB/s eta 0:00:01\r\u001b[K     |███████████████████████████████▍| 1.7MB 8.1MB/s eta 0:00:01\r\u001b[K     |███████████████████████████████▋| 1.7MB 8.1MB/s eta 0:00:01\r\u001b[K     |███████████████████████████████▉| 1.7MB 8.1MB/s eta 0:00:01\r\u001b[K     |████████████████████████████████| 1.7MB 8.1MB/s eta 0:00:01\r\u001b[K     |████████████████████████████████| 1.7MB 8.1MB/s \n",
            "\u001b[?25h"
          ],
          "name": "stdout"
        }
      ]
    },
    {
      "cell_type": "code",
      "metadata": {
        "id": "sIBqKlqE3NXx"
      },
      "source": [
        "import youtokentome as yttm"
      ],
      "execution_count": 19,
      "outputs": []
    },
    {
      "cell_type": "code",
      "metadata": {
        "id": "A7IWv_vF-KAf"
      },
      "source": [
        "def train_bpe(text_data: pd.Series, vocab_size, train_file_path, model_path):\r\n",
        "    with open(train_file_path, \"w\") as file:\r\n",
        "        for row in text_data:\r\n",
        "            file.write(row)\r\n",
        "    \r\n",
        "    yttm.BPE.train(train_file_path, vocab_size=vocab_size, model=model_path)\r\n",
        "    return yttm.BPE(model=model_path)"
      ],
      "execution_count": 20,
      "outputs": []
    },
    {
      "cell_type": "code",
      "metadata": {
        "colab": {
          "base_uri": "https://localhost:8080/"
        },
        "id": "QUew9lrrj-3M",
        "outputId": "f97f5093-acfe-4cdf-9099-3f3a28026343"
      },
      "source": [
        "%%time\r\n",
        "\r\n",
        "train_file_path = \"bpe_train_data.txt\"\r\n",
        "model_path = \"bpe_model.bin\"\r\n",
        "text_col_name = \"reviewText\"\r\n",
        "\r\n",
        "bpe_processor = train_bpe(data[text_col_name], vocab_size=7000, train_file_path=train_file_path, model_path=model_path)"
      ],
      "execution_count": 21,
      "outputs": [
        {
          "output_type": "stream",
          "text": [
            "CPU times: user 15.2 s, sys: 1.01 s, total: 16.2 s\n",
            "Wall time: 9.77 s\n"
          ],
          "name": "stdout"
        }
      ]
    },
    {
      "cell_type": "code",
      "metadata": {
        "id": "wWfN_t-MeSYl"
      },
      "source": [
        "vocab = bpe_processor.vocab()"
      ],
      "execution_count": 22,
      "outputs": []
    },
    {
      "cell_type": "code",
      "metadata": {
        "colab": {
          "base_uri": "https://localhost:8080/"
        },
        "id": "vUENDuLqM-gy",
        "outputId": "29b920ee-01aa-49da-d897-adbede3248b3"
      },
      "source": [
        "len(vocab)"
      ],
      "execution_count": 23,
      "outputs": [
        {
          "output_type": "execute_result",
          "data": {
            "text/plain": [
              "7000"
            ]
          },
          "metadata": {
            "tags": []
          },
          "execution_count": 23
        }
      ]
    },
    {
      "cell_type": "markdown",
      "metadata": {
        "id": "rQppHniP1rW2"
      },
      "source": [
        "### Applying tokenization for sentence to check the data with pandas *describe* method. \r\n",
        "\r\n",
        "---\r\n",
        "It allows to check the estimate length of comments and choose the right **max_length** truncation attribute for future data tokenization.\r\n",
        "\r\n",
        " The reason is that having a lot of zeros in data (as a padding) won't lead to good results.\r\n"
      ]
    },
    {
      "cell_type": "code",
      "metadata": {
        "colab": {
          "base_uri": "https://localhost:8080/"
        },
        "id": "mK_lIOBH_TJ6",
        "outputId": "e977e670-234e-48d5-d65f-cd058deeef86"
      },
      "source": [
        "def tokenize_sentence(sentence):\r\n",
        "    sentence = sentence.lower()\r\n",
        "    tokens = bpe_processor.encode(sentence, bos=True, eos=True)\r\n",
        "    return tokens\r\n",
        "\r\n",
        "data[\"reviewText\"].apply(lambda x: tokenize_sentence(x)).apply(lambda x: len(x)).describe()"
      ],
      "execution_count": 24,
      "outputs": [
        {
          "output_type": "execute_result",
          "data": {
            "text/plain": [
              "count    999636.000000\n",
              "mean         45.770188\n",
              "std          73.130578\n",
              "min           2.000000\n",
              "25%           9.000000\n",
              "50%          24.000000\n",
              "75%          53.000000\n",
              "max        4706.000000\n",
              "Name: reviewText, dtype: float64"
            ]
          },
          "metadata": {
            "tags": []
          },
          "execution_count": 24
        }
      ]
    },
    {
      "cell_type": "markdown",
      "metadata": {
        "id": "Ymc1fE5K21Mi"
      },
      "source": [
        "As we see above, ***75%*** of our comments have up to 56 tokens, so it looks like limiting max_length with values in rage of 60-70  - good idea."
      ]
    },
    {
      "cell_type": "code",
      "metadata": {
        "id": "elh0XhptnqC-"
      },
      "source": [
        "class RateDataset(torch.utils.data.Dataset):\r\n",
        "    def __init__(self, dataframe: pd.DataFrame, bpe_processor, vocab, text_col=\"reviewText\", lower=True, max_sen_len=65):\r\n",
        "        self.dataframe = dataframe.copy()\r\n",
        "        self.max_sen_len = max_sen_len\r\n",
        "        self.lower = lower\r\n",
        "        self.bpe_processor = bpe_processor\r\n",
        "        self.vocab = vocab\r\n",
        "\r\n",
        "        self.dataframe[text_col] = self.dataframe[text_col].apply(lambda x: self.__tokenize_sentence(x))\r\n",
        "\r\n",
        "    def __len__(self):\r\n",
        "        return len(self.dataframe)\r\n",
        "\r\n",
        "    def __getitem__(self, idx):\r\n",
        "        label, comment = self.dataframe.iloc[idx, :]\r\n",
        "\r\n",
        "        return {\r\n",
        "            \"comment\": comment,\r\n",
        "            \"label\": label\r\n",
        "        }        \r\n",
        "\r\n",
        "    def __tokenize_sentence(self, sentence):\r\n",
        "        sentence = sentence.lower() if self.lower else sentence\r\n",
        "        tokens = self.bpe_processor.encode(sentence, bos=True)\r\n",
        "        tokens = tokens[:self.max_sen_len - 1] + [self.bpe_processor.subword_to_id(self.vocab[3])]\r\n",
        "        tokens += (self.max_sen_len - len(tokens)) * [self.bpe_processor.subword_to_id(self.vocab[0])]\r\n",
        "        return tokens"
      ],
      "execution_count": 25,
      "outputs": []
    },
    {
      "cell_type": "code",
      "metadata": {
        "colab": {
          "base_uri": "https://localhost:8080/"
        },
        "id": "m7YL0X6WUSIC",
        "outputId": "7da33310-8bd4-4529-9765-1b375469596d"
      },
      "source": [
        "%%time\r\n",
        "dataset = RateDataset(data, bpe_processor, vocab)"
      ],
      "execution_count": 26,
      "outputs": [
        {
          "output_type": "stream",
          "text": [
            "CPU times: user 28.3 s, sys: 95.4 ms, total: 28.4 s\n",
            "Wall time: 28.5 s\n"
          ],
          "name": "stdout"
        }
      ]
    },
    {
      "cell_type": "code",
      "metadata": {
        "id": "Ww8rJh_ihSg7"
      },
      "source": [
        "def split_data(dataset, ratios):\r\n",
        "    lengths = [int(len(dataset) * ratio) for ratio in ratios]\r\n",
        "    if np.sum(lengths != len(dataset)):\r\n",
        "        lengths[-1] = len(dataset) - np.sum(lengths[:-1])\r\n",
        "\r\n",
        "    return random_split(dataset, lengths)"
      ],
      "execution_count": 27,
      "outputs": []
    },
    {
      "cell_type": "code",
      "metadata": {
        "id": "h-t7LE5LZtm1"
      },
      "source": [
        "train_dataset, valid_dataset, test_dataset = split_data(dataset, [0.8, 0.1, 0.1])"
      ],
      "execution_count": 28,
      "outputs": []
    },
    {
      "cell_type": "markdown",
      "metadata": {
        "id": "05xCuAyq3_EP"
      },
      "source": [
        "Defining custom collate_fn function for correct data batching."
      ]
    },
    {
      "cell_type": "code",
      "metadata": {
        "id": "a-_YKx8AtVWL"
      },
      "source": [
        "def custom_collate_fn(batch):\r\n",
        "    comments = [item[\"comment\"] for item in batch]\r\n",
        "    labels = [item[\"label\"] for item in batch]\r\n",
        "\r\n",
        "    return {\r\n",
        "        \"comments\": torch.LongTensor(comments),\r\n",
        "        \"labels\": torch.LongTensor(labels)\r\n",
        "    }"
      ],
      "execution_count": 29,
      "outputs": []
    },
    {
      "cell_type": "code",
      "metadata": {
        "id": "DWvlXXJpxevY"
      },
      "source": [
        "#@title Batch size setup { run: \"auto\" }\r\n",
        "BATCH_SIZE = 64 #@param [\"16\", \"32\", \"64\", \"128\"] {type:\"raw\"}"
      ],
      "execution_count": 30,
      "outputs": []
    },
    {
      "cell_type": "code",
      "metadata": {
        "id": "LCwoz4Vdhwyq"
      },
      "source": [
        "train_iterator = DataLoader(train_dataset, batch_size=BATCH_SIZE, collate_fn=custom_collate_fn)\r\n",
        "valid_iterator   = DataLoader(valid_dataset, batch_size=BATCH_SIZE, collate_fn=custom_collate_fn)\r\n",
        "test_iterator  = DataLoader(test_dataset, batch_size=BATCH_SIZE, collate_fn=custom_collate_fn)"
      ],
      "execution_count": 31,
      "outputs": []
    },
    {
      "cell_type": "markdown",
      "metadata": {
        "id": "BphSeDzN4QWV"
      },
      "source": [
        "### I decided to try to train an RNN model with LSTM layers."
      ]
    },
    {
      "cell_type": "code",
      "metadata": {
        "id": "nEPsaaFMUlBy"
      },
      "source": [
        "class Model(nn.Module):\r\n",
        "    def __init__(self, vocab_size, embedding_size, hidden_sizes, output_size, num_layers, dropout, rnn_dropout, bidirectional):\r\n",
        "        super().__init__()\r\n",
        "        \r\n",
        "        num_directions = 2 if bidirectional else 1\r\n",
        "        assert hidden_size % num_directions == 0\r\n",
        "        rnn_hidden_dim = hidden_size // num_directions\r\n",
        "\r\n",
        "        self.embedding_layer = nn.Embedding(vocab_size, embedding_size)\r\n",
        "        self.rnn = nn.LSTM(embedding_size, rnn_hidden_dim, dropout=rnn_dropout, num_layers=num_layers, \r\n",
        "                           bidirectional=bidirectional, bias=True, batch_first=True)\r\n",
        "        self.dropout = dropout\r\n",
        "\r\n",
        "        custom_module_list = []\r\n",
        "        if len(hidden_sizes) != 1:\r\n",
        "            custom_module_list = [\r\n",
        "                    [\r\n",
        "                        nn.Linear(hidden_sizes[idx], hidden_sizes[idx+1]),\r\n",
        "                        nn.ReLU(),\r\n",
        "                        nn.BatchNorm1d(hidden_sizes[idx+1])\r\n",
        "                    ]\r\n",
        "                    for idx in range(len(hidden_sizes)) if idx < len(hidden_sizes)-1\r\n",
        "            ]\r\n",
        "\r\n",
        "        custom_module_list.append([nn.Linear(hidden_sizes[-1], output_size)])\r\n",
        "\r\n",
        "        modules = []\r\n",
        "        for module in custom_module_list:\r\n",
        "            modules = np.concatenate((modules, module))\r\n",
        "\r\n",
        "        self.fc = nn.Sequential(modules)\r\n",
        "\r\n",
        "    def forward(self, inputs):\r\n",
        "        embedded = self.embedding_layer(inputs)\r\n",
        "        output, (hidden, cell) = self.rnn(embedded)\r\n",
        "        hidden = torch.cat([hidden[-2, :, :], hidden[-1, :, :]], 1)\r\n",
        "        hidden = nn.Dropout(self.dropout)(hidden)\r\n",
        "\r\n",
        "        logits = self.fc(hidden)\r\n",
        "        return logits"
      ],
      "execution_count": 69,
      "outputs": []
    },
    {
      "cell_type": "code",
      "metadata": {
        "colab": {
          "base_uri": "https://localhost:8080/"
        },
        "id": "MTAOfS2weXbK",
        "outputId": "681ac318-12a3-4849-8a94-5a98e766115c"
      },
      "source": [
        "#@title **Model hyperparameters** { run: \"auto\" }\r\n",
        "\r\n",
        "device = torch.device(\"cuda\" if torch.cuda.is_available() else \"cpu\")\r\n",
        "print(\"Device is: \", device)\r\n",
        "\r\n",
        "VOCAB_SIZE = len(vocab)\r\n",
        "OUTPUT_SIZE = 5 #equals to number of label classes \r\n",
        "EMB_SIZE = 300 #@param {type:\"slider\", min:100, max:1000, step:50}\r\n",
        "HIDDEN_SIZES = [1024, 512, 256] #@param [\"[256, 128, 64]\", \"[512, 256, 64]\", \"[512, 256, 128]\", \"[1024, 512, 256]\", \"[2048, 1024, 512]\"] {type:\"raw\"}\r\n",
        "RNN_DROPOUT = 0.2 #@param {type:\"slider\", min:0.1, max:0.9, step:0.1}\r\n",
        "DROPOUT = 0.2 #@param {type:\"slider\", min:0.1, max:0.9, step:0.1}\r\n",
        "NUM_LAYERS = 2 #@param {type:\"slider\", min:1, max:11, step:1}\r\n",
        "BIDIRECTIONAL = True #@param {type:\"boolean\"}\r\n",
        "\r\n"
      ],
      "execution_count": 79,
      "outputs": [
        {
          "output_type": "stream",
          "text": [
            "Device is:  cuda\n"
          ],
          "name": "stdout"
        }
      ]
    },
    {
      "cell_type": "code",
      "metadata": {
        "id": "5ABvlZIfaQ3P"
      },
      "source": [
        "model = Model(VOCAB_SIZE, EMB_SIZE, HIDDEN_SIZES, OUTPUT_SIZE, NUM_LAYERS, DROPOUT, RNN_DROPOUT, BIDIRECTIONAL)\r\n",
        "model.to(device)"
      ],
      "execution_count": null,
      "outputs": []
    },
    {
      "cell_type": "code",
      "metadata": {
        "colab": {
          "base_uri": "https://localhost:8080/"
        },
        "id": "MguCLSvigP4k",
        "outputId": "65381a51-6a69-4ac4-9e94-8f479058f681"
      },
      "source": [
        "def count_parameters(model):\r\n",
        "    return np.sum([p.numel() for p in model.parameters() if p.requires_grad])\r\n",
        "\r\n",
        "print(f'The model has {count_parameters(model):,} trainable parameters')"
      ],
      "execution_count": 72,
      "outputs": [
        {
          "output_type": "stream",
          "text": [
            "The model has 12,392,741 trainable parameters\n"
          ],
          "name": "stdout"
        }
      ]
    },
    {
      "cell_type": "markdown",
      "metadata": {
        "id": "Zv-V41dl5CR_"
      },
      "source": [
        "Almost at the top of this notebook rate score distribution has been plotted.\r\n",
        "\r\n",
        "To deal with current problem, it's worthy to use \"weight\" CrossEntropyLoss`s attribute for defining how much attetion to pay for other labels while training."
      ]
    },
    {
      "cell_type": "code",
      "metadata": {
        "colab": {
          "base_uri": "https://localhost:8080/"
        },
        "id": "dlBhpG4czGk3",
        "outputId": "83cda092-9293-40ee-baaf-6b6a91b735f0"
      },
      "source": [
        "weighted_tensor = []\r\n",
        "\r\n",
        "for rate_count in data[\"overall\"].value_counts():\r\n",
        "    rate_ratio = np.round(1 - rate_count / len(data[\"overall\"]), 1)\r\n",
        "    weighted_tensor.append(rate_ratio)\r\n",
        "\r\n",
        "weighted_tensor = torch.FloatTensor(weighted_tensor)\r\n",
        "weighted_tensor"
      ],
      "execution_count": 73,
      "outputs": [
        {
          "output_type": "execute_result",
          "data": {
            "text/plain": [
              "tensor([0.3000, 0.9000, 0.9000, 1.0000, 1.0000])"
            ]
          },
          "metadata": {
            "tags": []
          },
          "execution_count": 73
        }
      ]
    },
    {
      "cell_type": "code",
      "metadata": {
        "id": "LXULk9pIfYe3"
      },
      "source": [
        "optimizer = torch.optim.Adam(model.parameters())\r\n",
        "criterion = nn.CrossEntropyLoss(weight=weighted_tensor.to(device))"
      ],
      "execution_count": 74,
      "outputs": []
    },
    {
      "cell_type": "code",
      "metadata": {
        "id": "-8vtbeucerDC"
      },
      "source": [
        "def train(train_iterator, model, device, optimizer, criterion):\r\n",
        "    model.train()\r\n",
        "\r\n",
        "    all_predicts = []\r\n",
        "    all_targets = []\r\n",
        "    train_loss = 0\r\n",
        "\r\n",
        "    for iteration, batch in tqdm(enumerate(train_iterator), total=len(train_iterator)):\r\n",
        "        \r\n",
        "        comments = batch[\"comments\"].to(device)\r\n",
        "        labels = batch[\"labels\"].to(device)\r\n",
        "\r\n",
        "        outputs = model(comments)\r\n",
        "        loss = criterion(outputs, labels)\r\n",
        "\r\n",
        "        optimizer.zero_grad()\r\n",
        "        loss.backward()\r\n",
        "        optimizer.step()\r\n",
        "\r\n",
        "        probs = torch.softmax(outputs, 1)\r\n",
        "        preds = torch.argmax(probs, 1)\r\n",
        "\r\n",
        "        all_predicts = np.concatenate((all_predicts, preds.cpu().detach().numpy()))\r\n",
        "        all_targets = np.concatenate((all_targets, labels.cpu().detach().numpy()))\r\n",
        "\r\n",
        "        train_loss += loss.item()\r\n",
        "\r\n",
        "    train_loss /= len(train_iterator)\r\n",
        "\r\n",
        "    return train_loss, f1_score(all_targets, all_predicts, average=\"weighted\")"
      ],
      "execution_count": 75,
      "outputs": []
    },
    {
      "cell_type": "code",
      "metadata": {
        "id": "x3MBF6eA6zN_"
      },
      "source": [
        "def evaluate(valid_iterator, model, device, criterion):\r\n",
        "    model.eval()\r\n",
        "\r\n",
        "    val_loss = 0\r\n",
        "    all_predicts = []\r\n",
        "    all_targets = []\r\n",
        "\r\n",
        "    for iteration, batch in tqdm(enumerate(valid_iterator), total=len(valid_iterator)):\r\n",
        "        comments = batch[\"comments\"].to(device)\r\n",
        "        labels = batch[\"labels\"].to(device)\r\n",
        "\r\n",
        "        logits = model(comments)\r\n",
        "        loss = criterion(logits, labels)\r\n",
        "        8\r\n",
        "        probs = torch.softmax(logits, 1)\r\n",
        "        preds = torch.argmax(probs, 1)\r\n",
        "\r\n",
        "        all_predicts = np.concatenate((all_predicts, preds.cpu().detach().numpy()))\r\n",
        "        all_targets = np.concatenate((all_targets, labels.cpu().detach().numpy()))\r\n",
        "\r\n",
        "        val_loss += loss.item()\r\n",
        "\r\n",
        "    val_loss /= len(valid_iterator)\r\n",
        "    \r\n",
        "    return val_loss, f1_score(all_targets, all_predicts, average=\"weighted\")"
      ],
      "execution_count": 76,
      "outputs": []
    },
    {
      "cell_type": "code",
      "metadata": {
        "id": "0bkKCYvX_xNM"
      },
      "source": [
        "#@title **Train hyperparameters** { run: \"auto\" }\r\n",
        "\r\n",
        "EPOCHS = 8 #@param {type:\"slider\", min:1, max:10, step:1}\r\n",
        "PATIENCE = 2 #@param {type:\"slider\", min:1, max:10, step:1}\r\n",
        "MIN_LOSS = np.inf"
      ],
      "execution_count": 77,
      "outputs": []
    },
    {
      "cell_type": "markdown",
      "metadata": {
        "id": "Tmf_wBfG6-pU"
      },
      "source": [
        "### Training process"
      ]
    },
    {
      "cell_type": "code",
      "metadata": {
        "id": "iP-xOFpU7wLx",
        "colab": {
          "base_uri": "https://localhost:8080/",
          "height": 609,
          "referenced_widgets": [
            "1cda7a3a96044fad88f630002f011fb8",
            "9e1c8fd7a9dd42fda923fa70844b48b5",
            "9f3d09b965c24bc0b4f1d7defda5aa7f",
            "c719cc0291b94b8097db2ab1263619ce",
            "b54adfbd78c74ac3b43b6f1088468122",
            "1ef8999bc99243b194728594a807126e",
            "43eaef756aef4c26ade789507f35c507",
            "47847751d9194291ba572d3eb57c14d2",
            "25de3a9df4b549b3ab98d99c0b3e8b09",
            "4fbb67024a8745a282f44ec24a8c1fed",
            "9dbd5c069da94f8381b9487079bb61dc",
            "23e3aa0e24f349c4ab7167b58cc669c5",
            "ae68a10561d8465d927c6740bd7c1bc0",
            "5c91b0c797ea4669b6f6018d9bc4eadd",
            "4e0674c11cd845b7b6621c1f5093e479",
            "ca57240691644e0086ac758cdfd8501a",
            "73ebefb61f5849828aebf831ea56f792",
            "197a7dbf36b24a93a61c91a22a7df5b9",
            "f6b3f2c78a964a9a92ff0f55cbda2f03",
            "007c9f0d81454dc4ace59a16f2ff4c80",
            "9a1ac857c4794cfeb45291aefe7f4352",
            "b1fd7bd8a02c4347b22cec42bcd92e95",
            "7b0f3af8f6a74d6b9d33f024ed7646e0",
            "bd64ff01eb0c446e909b4702e2776903",
            "02dae0318ea341bdb68e35b7a00f0a64",
            "027c299b398e4324a2209e253b260dae",
            "a2cfed893ca9414380d1ed5c128b86d1",
            "5ff44aa44be34654b7fe5d1d8f5bcc7f",
            "7de45331035144399d083c293256cdad",
            "b40d3756b96141e48bc2c6a76591ef57",
            "b6c13ab5cccd43fc81181858312f1fe4",
            "746a2d84f75841509310f2da0c84e94b",
            "98eaf26da2794589b79bc853918a646b",
            "883a512f563244529da7bc237c361707",
            "72ba800eefec4578bd392f3772019c64",
            "833e4581ec5248be8a5ddd2ead084dad",
            "fe7b7daa81a24c429663a49797a1cc84",
            "ae898070585c4e44870a025b5ae5accd",
            "48cfd9e3b0fa44f3b73f1720af8ba5e7",
            "273ee9ad60dc492abeae8ed4f49da153",
            "fca68eaf1b914324b408b69ba81e8e95",
            "b16875c25124419294f5801ab187a131",
            "c30775cf16e54549b58ceb694ae8f0a2",
            "def29303c1234ec48dbeb22b41f61396",
            "9de65219ae8f4f08bae0b242fcf1d9fb",
            "5e9c61a7fac449918cad15f0175095c4",
            "f812586d42dc47a09911baaef3c1f5db",
            "73f75c5f4fb245a18f5cf276cc303e7c",
            "21eb09eb3b964c55a2d97facb5f90a85",
            "7adc56f5f6c745ac975e27ef18906aea",
            "bb3ae7d957f4407abf77e0dfda3c308a",
            "2dcca62928884c269f9c5dba5972ec83",
            "3a31ed3ff0054e7aa457d716757b0047",
            "bd6f6f7786b34079a276b3110235a61f",
            "49a82226a36845b9b5a7a816aa81eeea",
            "e6b4c3d289784ac886f6c093054b1e64",
            "e0c3078515604444b84f8f2acd3a79c1",
            "c0169ae62237447789824ba0e86a05ea",
            "e7bae3f4b13d4dae86fbbac37867ce20",
            "e710226d4aa8464dba7ab813664395c0",
            "dfddb0293de74e56ba6de5c227185d0b",
            "ac4e811735fc4ba787aa50b532cf1a66",
            "3cd6c699308b460dbf7c9ebac4a17fae",
            "f46088426e5b498bb2b2752c1ab306e4"
          ]
        },
        "outputId": "b6ce85ba-1c9f-4e88-a0ed-ce71cfbfdf16"
      },
      "source": [
        "CUR_PATIENCE = 0\r\n",
        "\r\n",
        "for epoch in range(EPOCHS):\r\n",
        "\r\n",
        "    train_loss, train_f1 = train(train_iterator, model, device, optimizer, criterion)\r\n",
        "    valid_loss, valid_f1 = evaluate(valid_iterator, model, device, criterion)\r\n",
        "\r\n",
        "    print(f'Epoch: {epoch + 1}\\n \\\r\n",
        "           Training Loss: {train_loss}, Training f1_score: {train_f1}\\n \\\r\n",
        "           Validation Loss: {valid_loss}, Validation f1_score: {valid_f1}')\r\n",
        "\r\n",
        "    if valid_loss < MIN_LOSS:\r\n",
        "        MIN_LOSS = valid_loss\r\n",
        "        best_model = model.state_dict()\r\n",
        "    else:\r\n",
        "        CUR_PATIENCE += 1\r\n",
        "        if CUR_PATIENCE == PATIENCE:\r\n",
        "            CUR_PATIENCE = 0\r\n",
        "            break\r\n",
        "\r\n",
        "torch.save(best_model, 'rnn_model.pt')"
      ],
      "execution_count": 78,
      "outputs": [
        {
          "output_type": "display_data",
          "data": {
            "application/vnd.jupyter.widget-view+json": {
              "model_id": "1cda7a3a96044fad88f630002f011fb8",
              "version_minor": 0,
              "version_major": 2
            },
            "text/plain": [
              "HBox(children=(FloatProgress(value=0.0, max=12496.0), HTML(value='')))"
            ]
          },
          "metadata": {
            "tags": []
          }
        },
        {
          "output_type": "stream",
          "text": [
            "\n"
          ],
          "name": "stdout"
        },
        {
          "output_type": "display_data",
          "data": {
            "application/vnd.jupyter.widget-view+json": {
              "model_id": "25de3a9df4b549b3ab98d99c0b3e8b09",
              "version_minor": 0,
              "version_major": 2
            },
            "text/plain": [
              "HBox(children=(FloatProgress(value=0.0, max=1562.0), HTML(value='')))"
            ]
          },
          "metadata": {
            "tags": []
          }
        },
        {
          "output_type": "stream",
          "text": [
            "\n",
            "Epoch: 1\n",
            "            Training Loss: 0.6013735884707541, Training f1_score: 0.7111440276981611\n",
            "            Validation Loss: 0.5539688359416554, Validation f1_score: 0.7316671588608354\n"
          ],
          "name": "stdout"
        },
        {
          "output_type": "display_data",
          "data": {
            "application/vnd.jupyter.widget-view+json": {
              "model_id": "73ebefb61f5849828aebf831ea56f792",
              "version_minor": 0,
              "version_major": 2
            },
            "text/plain": [
              "HBox(children=(FloatProgress(value=0.0, max=12496.0), HTML(value='')))"
            ]
          },
          "metadata": {
            "tags": []
          }
        },
        {
          "output_type": "stream",
          "text": [
            "\n"
          ],
          "name": "stdout"
        },
        {
          "output_type": "display_data",
          "data": {
            "application/vnd.jupyter.widget-view+json": {
              "model_id": "02dae0318ea341bdb68e35b7a00f0a64",
              "version_minor": 0,
              "version_major": 2
            },
            "text/plain": [
              "HBox(children=(FloatProgress(value=0.0, max=1562.0), HTML(value='')))"
            ]
          },
          "metadata": {
            "tags": []
          }
        },
        {
          "output_type": "stream",
          "text": [
            "\n",
            "Epoch: 2\n",
            "            Training Loss: 0.5409110347142922, Training f1_score: 0.7458026184572178\n",
            "            Validation Loss: 0.5422283749879552, Validation f1_score: 0.7388162747066815\n"
          ],
          "name": "stdout"
        },
        {
          "output_type": "display_data",
          "data": {
            "application/vnd.jupyter.widget-view+json": {
              "model_id": "98eaf26da2794589b79bc853918a646b",
              "version_minor": 0,
              "version_major": 2
            },
            "text/plain": [
              "HBox(children=(FloatProgress(value=0.0, max=12496.0), HTML(value='')))"
            ]
          },
          "metadata": {
            "tags": []
          }
        },
        {
          "output_type": "stream",
          "text": [
            "\n"
          ],
          "name": "stdout"
        },
        {
          "output_type": "display_data",
          "data": {
            "application/vnd.jupyter.widget-view+json": {
              "model_id": "fca68eaf1b914324b408b69ba81e8e95",
              "version_minor": 0,
              "version_major": 2
            },
            "text/plain": [
              "HBox(children=(FloatProgress(value=0.0, max=1562.0), HTML(value='')))"
            ]
          },
          "metadata": {
            "tags": []
          }
        },
        {
          "output_type": "stream",
          "text": [
            "\n",
            "Epoch: 3\n",
            "            Training Loss: 0.5117008323624979, Training f1_score: 0.7628335873745544\n",
            "            Validation Loss: 0.5443303096042552, Validation f1_score: 0.7473702586012656\n"
          ],
          "name": "stdout"
        },
        {
          "output_type": "display_data",
          "data": {
            "application/vnd.jupyter.widget-view+json": {
              "model_id": "21eb09eb3b964c55a2d97facb5f90a85",
              "version_minor": 0,
              "version_major": 2
            },
            "text/plain": [
              "HBox(children=(FloatProgress(value=0.0, max=12496.0), HTML(value='')))"
            ]
          },
          "metadata": {
            "tags": []
          }
        },
        {
          "output_type": "stream",
          "text": [
            "\n"
          ],
          "name": "stdout"
        },
        {
          "output_type": "display_data",
          "data": {
            "application/vnd.jupyter.widget-view+json": {
              "model_id": "e0c3078515604444b84f8f2acd3a79c1",
              "version_minor": 0,
              "version_major": 2
            },
            "text/plain": [
              "HBox(children=(FloatProgress(value=0.0, max=1562.0), HTML(value='')))"
            ]
          },
          "metadata": {
            "tags": []
          }
        },
        {
          "output_type": "stream",
          "text": [
            "\n",
            "Epoch: 4\n",
            "            Training Loss: 0.489404339689127, Training f1_score: 0.7753521070835256\n",
            "            Validation Loss: 0.5496234205120962, Validation f1_score: 0.7501453071907109\n"
          ],
          "name": "stdout"
        }
      ]
    },
    {
      "cell_type": "code",
      "metadata": {
        "id": "Xc877y4TigOb"
      },
      "source": [
        "model = torch.load(\"rnn_model.pt\")"
      ],
      "execution_count": 80,
      "outputs": []
    },
    {
      "cell_type": "markdown",
      "metadata": {
        "id": "SPv968XYFbLB"
      },
      "source": [
        "Best model state_dict at google drive"
      ]
    },
    {
      "cell_type": "code",
      "metadata": {
        "id": "I0oHUucL71dp"
      },
      "source": [
        "gdown.download(\"https://drive.google.com/u/0/uc?export=download&confirm=tM7b&id=1rvDn1h7ruN-inf8177Enjhzrtjpln7M1\", \"rnn_model.pt\", True)"
      ],
      "execution_count": null,
      "outputs": []
    },
    {
      "cell_type": "code",
      "metadata": {
        "id": "i1BvsK98SMNk",
        "colab": {
          "base_uri": "https://localhost:8080/"
        },
        "outputId": "839f3926-380a-4056-df14-37e5723e6d4f"
      },
      "source": [
        "model = Model(VOCAB_SIZE, EMB_SIZE, hIDDEN_SIZES, OUTPUT_SIZE, NUM_LAYERS, DROPOUT, RNN_DROPOUT, BIDIRECTIONAL)\r\n",
        "model.load_state_dict(torch.load(\"/content/rnn_model.pt\"))\r\n",
        "model.to(device)"
      ],
      "execution_count": 81,
      "outputs": [
        {
          "output_type": "execute_result",
          "data": {
            "text/plain": [
              "Model(\n",
              "  (embedding_layer): Embedding(7000, 300)\n",
              "  (rnn): LSTM(300, 512, num_layers=2, batch_first=True, dropout=0.2, bidirectional=True)\n",
              "  (fc1): Linear(in_features=1024, out_features=512, bias=True)\n",
              "  (fc2): Linear(in_features=512, out_features=256, bias=True)\n",
              "  (fc3): Linear(in_features=256, out_features=5, bias=True)\n",
              "  (bn1): BatchNorm1d(512, eps=1e-05, momentum=0.1, affine=True, track_running_stats=True)\n",
              "  (bn2): BatchNorm1d(256, eps=1e-05, momentum=0.1, affine=True, track_running_stats=True)\n",
              ")"
            ]
          },
          "metadata": {
            "tags": []
          },
          "execution_count": 81
        }
      ]
    },
    {
      "cell_type": "markdown",
      "metadata": {
        "id": "EPkKgbw-62XD"
      },
      "source": [
        "### Testing"
      ]
    },
    {
      "cell_type": "code",
      "metadata": {
        "id": "NoIHWL4uYKCD"
      },
      "source": [
        "def test(test_iterator, model, device, criterion, update_plot_iter):\r\n",
        "    model.eval()\r\n",
        "\r\n",
        "    all_predicts = []\r\n",
        "    all_targets = []\r\n",
        "\r\n",
        "    history = []\r\n",
        "    \r\n",
        "    for iteration, batch in tqdm(enumerate(test_iterator), total=len(test_iterator)):\r\n",
        "        comments = batch[\"comments\"].to(device)\r\n",
        "        labels = batch[\"labels\"].to(device)\r\n",
        "\r\n",
        "        logits = model(comments)\r\n",
        "        loss = criterion(logits, labels)\r\n",
        "\r\n",
        "        probs = torch.softmax(logits, 1)\r\n",
        "        preds = torch.argmax(probs, 1)\r\n",
        "\r\n",
        "        all_predicts = np.concatenate((all_predicts, preds.cpu().detach().numpy()))\r\n",
        "        all_targets = np.concatenate((all_targets, labels.cpu().detach().numpy()))\r\n",
        "        \r\n",
        "    print(\"F1 score: \", f1_score(all_targets, all_predicts, average=\"weighted\"))"
      ],
      "execution_count": 82,
      "outputs": []
    },
    {
      "cell_type": "code",
      "metadata": {
        "colab": {
          "base_uri": "https://localhost:8080/",
          "height": 82,
          "referenced_widgets": [
            "f28aeb60355b40cbaf36164547eb0021",
            "737035f108d64d37829c0fa7d7e52092",
            "a22da4f335ba456b8527dd13c954f31c",
            "d33b58022d95477db1efaeac7d252bc0",
            "cffb7a0e83ab420ea3a68a0b6e2d6ab9",
            "b158d45aed584edfb972e2f702079f14",
            "6bcfe752b72e47eba371444b2204d8d0",
            "19f14e2fda514817a3813d795c8cfe75"
          ]
        },
        "id": "L_p4zL5Jal2T",
        "outputId": "7ceee166-b8cf-42dc-b469-961df61f1804"
      },
      "source": [
        "test(test_iterator, model, device, criterion, 40)"
      ],
      "execution_count": 84,
      "outputs": [
        {
          "output_type": "display_data",
          "data": {
            "application/vnd.jupyter.widget-view+json": {
              "model_id": "f28aeb60355b40cbaf36164547eb0021",
              "version_minor": 0,
              "version_major": 2
            },
            "text/plain": [
              "HBox(children=(FloatProgress(value=0.0, max=1562.0), HTML(value='')))"
            ]
          },
          "metadata": {
            "tags": []
          }
        },
        {
          "output_type": "stream",
          "text": [
            "\n",
            "F1 score:  0.747181432809821\n"
          ],
          "name": "stdout"
        }
      ]
    },
    {
      "cell_type": "markdown",
      "metadata": {
        "id": "XLYbgKid65ji"
      },
      "source": [
        "### Predicting"
      ]
    },
    {
      "cell_type": "code",
      "metadata": {
        "id": "Gg6ZK2fjSrvw"
      },
      "source": [
        "def predict_rate(sentence):\r\n",
        "    lower = True\r\n",
        "    max_sen_len = len(sentence)\r\n",
        "\r\n",
        "    sentence = sentence.lower() if lower else sentence\r\n",
        "    tokens = bpe_processor.encode(sentence, bos=True)\r\n",
        "    tokens = tokens[:max_sen_len - 1] + [bpe_processor.subword_to_id(vocab[3])]\r\n",
        "    tokens += (max_sen_len - len(tokens)) * [bpe_processor.subword_to_id(vocab[0])]\r\n",
        "\r\n",
        "    model.eval()\r\n",
        "    model_input = torch.LongTensor(tokens).unsqueeze(0).to(device)\r\n",
        "    logits = model(model_input)\r\n",
        "    probs = torch.softmax(logits, 1)\r\n",
        "    prediction = torch.argmax(probs, 1)\r\n",
        "\r\n",
        "    return prediction.item() + 1"
      ],
      "execution_count": 85,
      "outputs": []
    },
    {
      "cell_type": "code",
      "metadata": {
        "colab": {
          "base_uri": "https://localhost:8080/"
        },
        "id": "5CAlgZFcjN3l",
        "outputId": "35a16aa5-91e4-4762-95aa-731cc6f75049"
      },
      "source": [
        "sentence = \"Good product\"\r\n",
        "predict_rate(sentence)"
      ],
      "execution_count": 87,
      "outputs": [
        {
          "output_type": "execute_result",
          "data": {
            "text/plain": [
              "5"
            ]
          },
          "metadata": {
            "tags": []
          },
          "execution_count": 87
        }
      ]
    },
    {
      "cell_type": "code",
      "metadata": {
        "colab": {
          "base_uri": "https://localhost:8080/"
        },
        "id": "qml3eBm4T-fJ",
        "outputId": "ceb488e4-7e04-4063-dbfd-12954a3854e3"
      },
      "source": [
        "sentence = \"I am not satisfied\"\r\n",
        "predict_rate(sentence)"
      ],
      "execution_count": 86,
      "outputs": [
        {
          "output_type": "execute_result",
          "data": {
            "text/plain": [
              "2"
            ]
          },
          "metadata": {
            "tags": []
          },
          "execution_count": 86
        }
      ]
    },
    {
      "cell_type": "code",
      "metadata": {
        "id": "Oh2kypModEzf",
        "colab": {
          "base_uri": "https://localhost:8080/"
        },
        "outputId": "8022c8b2-e040-4d4c-dc32-642f5fad6b15"
      },
      "source": [
        "sentence = \"Vacuum cleaner sucks!\"\r\n",
        "predict_rate(sentence)"
      ],
      "execution_count": 88,
      "outputs": [
        {
          "output_type": "execute_result",
          "data": {
            "text/plain": [
              "5"
            ]
          },
          "metadata": {
            "tags": []
          },
          "execution_count": 88
        }
      ]
    },
    {
      "cell_type": "code",
      "metadata": {
        "colab": {
          "base_uri": "https://localhost:8080/"
        },
        "id": "NzZdehJojSrP",
        "outputId": "eac7578b-a73a-46d3-f025-272967209786"
      },
      "source": [
        "sentence = \"Bad quality\"\r\n",
        "predict_rate(sentence)"
      ],
      "execution_count": 90,
      "outputs": [
        {
          "output_type": "execute_result",
          "data": {
            "text/plain": [
              "1"
            ]
          },
          "metadata": {
            "tags": []
          },
          "execution_count": 90
        }
      ]
    },
    {
      "cell_type": "code",
      "metadata": {
        "colab": {
          "base_uri": "https://localhost:8080/"
        },
        "id": "JEQzZaNQjVtk",
        "outputId": "b49e2d71-bcad-43fb-efba-27c45a73cf5d"
      },
      "source": [
        "sentence = \"Not bad\"\r\n",
        "predict_rate(sentence)"
      ],
      "execution_count": 91,
      "outputs": [
        {
          "output_type": "execute_result",
          "data": {
            "text/plain": [
              "4"
            ]
          },
          "metadata": {
            "tags": []
          },
          "execution_count": 91
        }
      ]
    },
    {
      "cell_type": "code",
      "metadata": {
        "colab": {
          "base_uri": "https://localhost:8080/"
        },
        "id": "ex1BfvOZjd3L",
        "outputId": "fd60bf1e-f9b5-40e5-bbbc-17b3d6a82884"
      },
      "source": [
        "sentence = \"So-so\"\r\n",
        "predict_rate(sentence)"
      ],
      "execution_count": 92,
      "outputs": [
        {
          "output_type": "execute_result",
          "data": {
            "text/plain": [
              "3"
            ]
          },
          "metadata": {
            "tags": []
          },
          "execution_count": 92
        }
      ]
    }
  ]
}